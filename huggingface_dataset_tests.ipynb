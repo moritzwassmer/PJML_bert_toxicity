{
 "cells": [
  {
   "cell_type": "markdown",
   "id": "dde97783",
   "metadata": {},
   "source": [
    "# TODO\n",
    "* Ensure that during pre training, both sentences fit into the model at the same time -> DONE but not tested\n",
    "* think about visualizations for text, preprocessing text, etc.\n",
    "* implement interfaces of the task sheet\n",
    "* cleaner code"
   ]
  },
  {
   "cell_type": "code",
   "execution_count": 1,
   "id": "802591b8",
   "metadata": {},
   "outputs": [],
   "source": [
    "#pip install datasets\n",
    "import datasets"
   ]
  },
  {
   "cell_type": "code",
   "execution_count": 2,
   "id": "cb5848b2",
   "metadata": {},
   "outputs": [],
   "source": [
    "SEQ_LEN = 64 # maximum sequence length\n",
    "VOCAB_SIZE = 30522  # = len(tokenizer.vocab)\n",
    "N_SEGMENTS = 3 # number of segmentation labels\n",
    "EMBED_SIZE = 768 # size of embedding vector\n",
    "DROPOUT = 0.1 # dropout chance"
   ]
  },
  {
   "cell_type": "markdown",
   "id": "d464fe5e",
   "metadata": {},
   "source": [
    "## Pretraining"
   ]
  },
  {
   "cell_type": "markdown",
   "id": "8dc737c1",
   "metadata": {},
   "source": [
    "### bookcorpus"
   ]
  },
  {
   "cell_type": "code",
   "execution_count": 3,
   "id": "5b594b1d",
   "metadata": {
    "scrolled": false
   },
   "outputs": [
    {
     "name": "stderr",
     "output_type": "stream",
     "text": [
      "Found cached dataset bookcorpus (C:/Users/Johannes/.cache/huggingface/datasets/bookcorpus/plain_text/1.0.0/eddee3cae1cc263a431aa98207d4d27fd8a73b0a9742f692af0e6c65afa4d75f)\n"
     ]
    },
    {
     "data": {
      "application/vnd.jupyter.widget-view+json": {
       "model_id": "b24b3f21c5a34b13a71a10552d9c5f8b",
       "version_major": 2,
       "version_minor": 0
      },
      "text/plain": [
       "  0%|          | 0/1 [00:00<?, ?it/s]"
      ]
     },
     "metadata": {},
     "output_type": "display_data"
    },
    {
     "name": "stdout",
     "output_type": "stream",
     "text": [
      "DatasetDict({\n",
      "    train: Dataset({\n",
      "        features: ['text'],\n",
      "        num_rows: 74004228\n",
      "    })\n",
      "})\n"
     ]
    }
   ],
   "source": [
    "# Download + load data from cache or online AUTOMATICALLY\n",
    "# https://huggingface.co/docs/datasets/loading#slice-splits\n",
    "\n",
    "\n",
    "from datasets import load_dataset\n",
    "\n",
    "dataset = load_dataset(\"bookcorpus\") # alternative, less size datasets.load_dataset(\"bookcorpus\", split=\"train[:10%]\")\n",
    "# split=\"train[10:20]\")\n",
    "# saved here on windows C:\\Users\\morit\\.cache\\huggingface\n",
    "\n",
    "print(dataset)"
   ]
  },
  {
   "cell_type": "markdown",
   "id": "f3f56493",
   "metadata": {},
   "source": [
    "#### Saving huggingface Dataset on disk"
   ]
  },
  {
   "cell_type": "code",
   "execution_count": 4,
   "id": "30a6ecc6",
   "metadata": {},
   "outputs": [],
   "source": [
    "# manual save to disk\n",
    "\n",
    "#folder_path = r\"C:\\Users\\morit\\OneDrive\\UNI\\Master\\WS23\\PML\\repo\\bert_from_scratch.toxic_comment\\datasets\\pretraining\"\n",
    "#full_path = folder_path+r\"\\bookcorpus\"\n",
    "\n",
    "#dataset.save_to_disk(full_path)"
   ]
  },
  {
   "cell_type": "markdown",
   "id": "800cfd29",
   "metadata": {},
   "source": [
    "#### Loading hf dataset from disk"
   ]
  },
  {
   "cell_type": "code",
   "execution_count": 5,
   "id": "6a77b037",
   "metadata": {
    "scrolled": true
   },
   "outputs": [],
   "source": [
    "# manual load from disk\n",
    "\n",
    "#dataset = datasets.load_dataset(full_path)"
   ]
  },
  {
   "cell_type": "markdown",
   "id": "f4604f83",
   "metadata": {},
   "source": [
    "#### slicing hf dataset"
   ]
  },
  {
   "cell_type": "code",
   "execution_count": 6,
   "id": "c14821a2",
   "metadata": {
    "scrolled": true
   },
   "outputs": [
    {
     "data": {
      "text/plain": [
       "'her parents rattled along to each other as they made their way through the tree-lined suburbs where megan had grown up .'"
      ]
     },
     "execution_count": 6,
     "metadata": {},
     "output_type": "execute_result"
    }
   ],
   "source": [
    "dataset[\"train\"][66][\"text\"]"
   ]
  },
  {
   "cell_type": "markdown",
   "id": "7a0c4a55",
   "metadata": {},
   "source": [
    "#### Standard dataloader - not sufficient we need tokenized output -> implement own dataset classes"
   ]
  },
  {
   "cell_type": "code",
   "execution_count": 7,
   "id": "15cb2c61",
   "metadata": {},
   "outputs": [
    {
     "data": {
      "text/plain": [
       "{'text': ['usually , he would be tearing around the living room , playing with his toys .',\n",
       "  'but just one look at a minion sent him practically catatonic .']}"
      ]
     },
     "execution_count": 7,
     "metadata": {},
     "output_type": "execute_result"
    }
   ],
   "source": [
    "from torch.utils.data import DataLoader\n",
    "dataloader = DataLoader(dataset[\"train\"], batch_size=2)\n",
    "batch = next(iter(dataloader))\n",
    "batch"
   ]
  },
  {
   "cell_type": "markdown",
   "id": "c5ebacda",
   "metadata": {},
   "source": [
    "#### Tokenizer - use pretrained, at least for prototype"
   ]
  },
  {
   "cell_type": "code",
   "execution_count": 8,
   "id": "012af1d1",
   "metadata": {},
   "outputs": [],
   "source": [
    "# https://huggingface.co/docs/transformers/preprocessing\n",
    "# https://huggingface.co/docs/transformers/main_classes/tokenizer\n",
    "from transformers import BertTokenizer\n",
    "\n",
    "tokenizer = BertTokenizer.from_pretrained(\"bert-base-uncased\")  # Choose an appropriate tokenizer"
   ]
  },
  {
   "cell_type": "code",
   "execution_count": 9,
   "id": "766ae484",
   "metadata": {},
   "outputs": [],
   "source": [
    "#tokenizer.model_max_length = SEQ_LEN # might not be correct in case of pretraining where we add CLS at the end, check that"
   ]
  },
  {
   "cell_type": "markdown",
   "id": "0827bc7f",
   "metadata": {},
   "source": [
    "#### Tokenizer parameters"
   ]
  },
  {
   "cell_type": "code",
   "execution_count": 10,
   "id": "7cc5fe66",
   "metadata": {
    "scrolled": true
   },
   "outputs": [
    {
     "data": {
      "text/plain": [
       "'right'"
      ]
     },
     "execution_count": 10,
     "metadata": {},
     "output_type": "execute_result"
    }
   ],
   "source": [
    "tokenizer.truncation_side "
   ]
  },
  {
   "cell_type": "code",
   "execution_count": 11,
   "id": "d5adf4f0",
   "metadata": {},
   "outputs": [
    {
     "data": {
      "text/plain": [
       "512"
      ]
     },
     "execution_count": 11,
     "metadata": {},
     "output_type": "execute_result"
    }
   ],
   "source": [
    "tokenizer.model_max_length # we might need to fixate this"
   ]
  },
  {
   "cell_type": "code",
   "execution_count": 12,
   "id": "b2db1cfc",
   "metadata": {},
   "outputs": [
    {
     "data": {
      "text/plain": [
       "'[MASK]'"
      ]
     },
     "execution_count": 12,
     "metadata": {},
     "output_type": "execute_result"
    }
   ],
   "source": [
    "tokenizer.mask_token"
   ]
  },
  {
   "cell_type": "code",
   "execution_count": 13,
   "id": "a09c4ac6",
   "metadata": {},
   "outputs": [
    {
     "data": {
      "text/plain": [
       "103"
      ]
     },
     "execution_count": 13,
     "metadata": {},
     "output_type": "execute_result"
    }
   ],
   "source": [
    "tokenizer.vocab['[MASK]']"
   ]
  },
  {
   "cell_type": "markdown",
   "id": "5a719881",
   "metadata": {},
   "source": [
    "#### Tokenizer example usage"
   ]
  },
  {
   "cell_type": "code",
   "execution_count": 14,
   "id": "6afd8af0",
   "metadata": {
    "scrolled": true
   },
   "outputs": [
    {
     "data": {
      "text/plain": [
       "{'input_ids': [101, 7632, 1045, 2572, 28461, 1010, 2040, 2024, 2017, 1029, 102], 'token_type_ids': [0, 0, 0, 0, 0, 0, 0, 0, 0, 0, 0], 'attention_mask': [1, 1, 1, 1, 1, 1, 1, 1, 1, 1, 1]}"
      ]
     },
     "execution_count": 14,
     "metadata": {},
     "output_type": "execute_result"
    }
   ],
   "source": [
    "text = \"hi i am moritz, who are you ?\"#[\"hi i am moritz\", \"no you are not moritz, you are kevin\"]\n",
    "encoded_input = tokenizer(text)#,padding=True, truncation=True)\n",
    "# , return_tensors='pt') use this for pt tensors\n",
    "encoded_input"
   ]
  },
  {
   "cell_type": "code",
   "execution_count": 15,
   "id": "432fff51",
   "metadata": {},
   "outputs": [
    {
     "data": {
      "text/plain": [
       "[101, 7632, 1045, 2572, 28461, 1010, 2040, 2024, 2017, 1029, 102]"
      ]
     },
     "execution_count": 15,
     "metadata": {},
     "output_type": "execute_result"
    }
   ],
   "source": [
    "encoded_input[\"input_ids\"]"
   ]
  },
  {
   "cell_type": "code",
   "execution_count": 16,
   "id": "51f874a5",
   "metadata": {},
   "outputs": [
    {
     "data": {
      "text/plain": [
       "'[CLS] hi i am moritz, who are you? [SEP]'"
      ]
     },
     "execution_count": 16,
     "metadata": {},
     "output_type": "execute_result"
    }
   ],
   "source": [
    "tokenizer.decode(encoded_input[\"input_ids\"])"
   ]
  },
  {
   "cell_type": "markdown",
   "id": "711b4d7e",
   "metadata": {},
   "source": [
    "#### Custom Dataset"
   ]
  },
  {
   "cell_type": "code",
   "execution_count": 17,
   "id": "20979eeb",
   "metadata": {},
   "outputs": [
    {
     "data": {
      "text/plain": [
       "True"
      ]
     },
     "execution_count": 17,
     "metadata": {},
     "output_type": "execute_result"
    }
   ],
   "source": [
    "n_rows = None\n",
    "n_rows is None"
   ]
  },
  {
   "cell_type": "code",
   "execution_count": 191,
   "id": "f8564c64",
   "metadata": {},
   "outputs": [],
   "source": [
    "from torch.utils.data import Dataset, DataLoader\n",
    "import random\n",
    "import itertools\n",
    "import torch\n",
    "\n",
    "class Bookcorpus(Dataset):  \n",
    "    \n",
    "    def __init__(self, tokenizer, seq_len=64, split=\"train\", n_rows=None):\n",
    "        \"\"\"\n",
    "        n_rows == None means take the whole dataset\n",
    "        \"\"\"\n",
    "     \n",
    "        if not split in [\"train\"]:\n",
    "            raise ValueError(\"For Bookcorpus there is only a train split\")\n",
    "            \n",
    "        self.n_rows = n_rows # is only inititialized if __len__() is called\n",
    "        self.tokenizer = tokenizer \n",
    "        self.seq_len = seq_len\n",
    "        self.split = split\n",
    "        self.dataset = None # only loaded id needed\n",
    "    \n",
    "    # apply lazy loading\n",
    "    def load_memory(self):\n",
    "        if self.n_rows is not None:\n",
    "            self.dataset = load_dataset(\"bookcorpus\", split=self.split+\"[0:\"+str(self.n_rows)+\"]\") # [split]\n",
    "        else:\n",
    "            self.dataset = load_dataset(\"bookcorpus\") # [split]\n",
    "\n",
    "    def __len__(self):\n",
    "        if self.dataset is None:\n",
    "            self.load_memory() # only loaded if required\n",
    "        return len(self.dataset)\n",
    "\n",
    "    def __getitem__(self, item): \n",
    "        if self.dataset is None:\n",
    "            self.load_memory() # only loaded if required\n",
    "        \n",
    "        # Create a random pair of sentences, if subseq is true if they are subsequent\n",
    "        s1, s2, subseq = self.get_sentence_pair(item)\n",
    "        \n",
    "        # Replace 15% of the words in each line with masks/random words/the word itself\n",
    "        s1_random, s1_label = self.random_masking(s1)\n",
    "        s2_random, s2_label = self.random_masking(s2)\n",
    "        \n",
    "        # Step 3: Adding CLS and SEP tokens to the start and end of sentences # copied \n",
    "         # Adding PAD token for labels\n",
    "        cls = [self.tokenizer.vocab['[CLS]']]\n",
    "        sep = [self.tokenizer.vocab['[SEP]']] \n",
    "        pad = [self.tokenizer.vocab['[PAD]']]\n",
    "        \n",
    "        # append separating tokens to sequence       \n",
    "        s1 = cls + s1_random + sep       \n",
    "        s2 = s2_random + sep\n",
    "        s1_label = pad + s1_label + pad\n",
    "        s2_label = s2_label + pad\n",
    "               \n",
    "        # add segement label, adding padding\n",
    "        segment = ([1 for i in range(len(s1))]+[2 for i in range(len(s2))])[:self.seq_len]\n",
    "        # generate 1 input for model\n",
    "        model_input = (s1+s2)[:self.seq_len]\n",
    "        model_label = (s1_label + s2_label)[:self.seq_len]\n",
    "        # add padding where input is shorter than sequence\n",
    "        padding = [self.tokenizer.vocab['[PAD]'] for _ in range(self.seq_len - len(model_input))]\n",
    "        model_input.extend(padding)\n",
    "        model_label.extend(padding)\n",
    "        segment.extend(padding)\n",
    "        \n",
    "\n",
    "\n",
    "        output = {\n",
    "            \"input\": torch.tensor(model_input),\n",
    "            \"label\": torch.tensor(model_label),\n",
    "            \"segment\": torch.tensor(segment),\n",
    "            \"subseq\": torch.tensor(subseq)\n",
    "        }\n",
    "\n",
    "        return {key: value.clone().detach() for key, value in output.items()}        \n",
    "        #return  {\"s1\":s1, \"s2\":s2, \"is_next_label\":is_next_label}\n",
    "        #return {\"t1_random\":t1_random, \"t1_label\":t1_label, \"t2_random\":t2_random, \"t2_label\":t2_label}\n",
    "    \n",
    "    def get_sentence_pair(self, index): \n",
    "        '''gets sentence pair as dicitinary s1, s2, isNext'''\n",
    "        isNext = random.random() > 0.5 # if number > 0.5 isNext is positive\n",
    "        \n",
    "        s1 = self.dataset[index][\"text\"]\n",
    "        if isNext and index + 1 < len(self.dataset): # select two subsequent lines\n",
    "            s2 = self.dataset[index+1][\"text\"]\n",
    "            return s1, s2, 1 # line1, line2, subsequent\n",
    "        else: # select two non-Subsequent lines (index+1 is excluded from random selection)\n",
    "            s2 = self.get_random_line(index+1)[\"text\"]\n",
    "            return s1, s2, 0 # line1, line2, subsequent\n",
    "        \n",
    "    def get_random_line(self, excludedIndex): \n",
    "        '''return random single sentence excluding'''\n",
    "        randIndex = random.randint(1, self.__len__()-1)\n",
    "            \n",
    "        # ensure that randIndex is not next sentence\n",
    "        while randIndex == excludedIndex:\n",
    "            randIndex = random.randint(1, self.__len__()-1)\n",
    "        \n",
    "        return self.dataset[randIndex]\n",
    "    \n",
    "    def random_masking(self, sentence):\n",
    "        words = sentence.split()\n",
    "        masked_out = []\n",
    "        masked_labels = []\n",
    "        \n",
    "        for i, word in enumerate(words):\n",
    "            rnd_number1 = random.random() # continuous number from [0,1]\n",
    "            rnd_number2 = random.random() # continuous number from [0,1]\n",
    "\n",
    "            # turn word into token, remove [CLS], [SEP]\n",
    "            token = self.tokenizer(word)['input_ids'] \n",
    "            token = token[1:-1]\n",
    "\n",
    "            # replace a word with a probability of 15%\n",
    "            if rnd_number1 < 0.15:\n",
    "\n",
    "                # with 80% chance replace word by mask\n",
    "                if rnd_number2 < 0.8:\n",
    "                    for j in range(len(token)):\n",
    "                        masked_out.append(self.tokenizer.vocab['[MASK]'])\n",
    "                # with 10% chance replace word by random word\n",
    "                elif rnd_number2 < 0.9:\n",
    "                    for k in range(len(token)):\n",
    "                        masked_out.append(random.randrange(len(self.tokenizer.vocab)))\n",
    "                # with 10% chance word remains\n",
    "                else:\n",
    "                    masked_out.append(token)\n",
    "\n",
    "                # set corresponding label\n",
    "                masked_labels.append(token)\n",
    "            # 85% don't change anything\n",
    "            else:\n",
    "                masked_out.append(token)\n",
    "                # create corrsponding 0-label\n",
    "                for l in range(len(token)):\n",
    "                    masked_labels.append(0)\n",
    "                \n",
    "        # flatten output\n",
    "        masked_out = list(itertools.chain(*[[x] if not isinstance(x, list) else x for x in masked_out]))\n",
    "        print(masked_out)\n",
    "        masked_labels = list(itertools.chain(*[[x] if not isinstance(x, list) else x for x in masked_labels]))\n",
    "        print(masked_labels)\n",
    "\n",
    "        # check for correct length\n",
    "        assert len(masked_out) == len(masked_labels)\n",
    "        #assert len(output) == self.seq_len, \"sequence length not fixed! \"+str(len(output)) # from moritz\n",
    "        return masked_out, masked_labels"
   ]
  },
  {
   "cell_type": "markdown",
   "id": "c79e21d7",
   "metadata": {},
   "source": [
    "#### Testing the Dataset and Dataloaders"
   ]
  },
  {
   "cell_type": "code",
   "execution_count": 192,
   "id": "40334c37",
   "metadata": {},
   "outputs": [
    {
     "name": "stderr",
     "output_type": "stream",
     "text": [
      "Found cached dataset bookcorpus (C:/Users/Johannes/.cache/huggingface/datasets/bookcorpus/plain_text/1.0.0/eddee3cae1cc263a431aa98207d4d27fd8a73b0a9742f692af0e6c65afa4d75f)\n"
     ]
    },
    {
     "data": {
      "text/plain": [
       "100"
      ]
     },
     "execution_count": 192,
     "metadata": {},
     "output_type": "execute_result"
    }
   ],
   "source": [
    "test = Bookcorpus(tokenizer, n_rows = 100)\n",
    "len(test)"
   ]
  },
  {
   "cell_type": "code",
   "execution_count": 193,
   "id": "8b123188",
   "metadata": {},
   "outputs": [],
   "source": [
    "dl = DataLoader(test,batch_size=2,shuffle=False)"
   ]
  },
  {
   "cell_type": "code",
   "execution_count": 194,
   "id": "9ed0ac1b",
   "metadata": {
    "scrolled": true
   },
   "outputs": [
    {
     "data": {
      "text/plain": [
       "'for i in range(1,1000):\\n    batch = next(iter(dl))\\n    for j in range(1,2): # batchsize\\n        length_ = len(batch[\"bert_input\"][j])\\n        #print(length_)\\n        assert length_==SEQ_LEN, \"sequence size is not \"+str(SEQ_LEN)+\": \"+ str(length_)'"
      ]
     },
     "execution_count": 194,
     "metadata": {},
     "output_type": "execute_result"
    }
   ],
   "source": [
    "#is sequence length fixed?\n",
    "\"\"\"for i in range(1,1000):\n",
    "    batch = next(iter(dl))\n",
    "    for j in range(1,2): # batchsize\n",
    "        length_ = len(batch[\"bert_input\"][j])\n",
    "        #print(length_)\n",
    "        assert length_==SEQ_LEN, \"sequence size is not \"+str(SEQ_LEN)+\": \"+ str(length_)\"\"\""
   ]
  },
  {
   "cell_type": "code",
   "execution_count": 195,
   "id": "feee7d0f",
   "metadata": {},
   "outputs": [
    {
     "name": "stdout",
     "output_type": "stream",
     "text": [
      "[2788, 1010, 2002, 2052, 2022, 13311, 2105, 103, 2542, 2282, 1010, 2652, 2007, 2010, 10899, 1012]\n",
      "[0, 0, 0, 0, 0, 0, 0, 1996, 0, 0, 0, 0, 0, 0, 0, 0]\n",
      "[12756, 6260, 103, 2000, 3610, 6701, 1005, 1055, 5048, 1012]\n",
      "[0, 0, 2058, 0, 0, 0, 1005, 1055, 0, 0]\n",
      "[2021, 2074, 2028, 2298, 2012, 1037, 7163, 2239, 2741, 2032, 8134, 4937, 22436, 2594, 1012]\n",
      "[0, 0, 0, 0, 0, 0, 0, 0, 0, 0, 0, 0, 0, 0, 0]\n",
      "[2014, 2388, 1005, 1055, 2376, 2716, 12756, 2041, 103, 2014, 4301, 1012]\n",
      "[0, 0, 0, 0, 0, 0, 0, 0, 1997, 0, 0, 0]\n"
     ]
    },
    {
     "data": {
      "text/plain": [
       "{'input': tensor([[  101,  2788,  1010,  2002,  2052,  2022, 13311,  2105,   103,  2542,\n",
       "           2282,  1010,  2652,  2007,  2010, 10899,  1012,   102, 12756,  6260,\n",
       "            103,  2000,  3610,  6701,  1005,  1055,  5048,  1012,   102,     0,\n",
       "              0,     0,     0,     0,     0,     0,     0,     0,     0,     0,\n",
       "              0,     0,     0,     0,     0,     0,     0,     0,     0,     0,\n",
       "              0,     0,     0,     0,     0,     0,     0,     0,     0,     0,\n",
       "              0,     0,     0,     0],\n",
       "         [  101,  2021,  2074,  2028,  2298,  2012,  1037,  7163,  2239,  2741,\n",
       "           2032,  8134,  4937, 22436,  2594,  1012,   102,  2014,  2388,  1005,\n",
       "           1055,  2376,  2716, 12756,  2041,   103,  2014,  4301,  1012,   102,\n",
       "              0,     0,     0,     0,     0,     0,     0,     0,     0,     0,\n",
       "              0,     0,     0,     0,     0,     0,     0,     0,     0,     0,\n",
       "              0,     0,     0,     0,     0,     0,     0,     0,     0,     0,\n",
       "              0,     0,     0,     0]]),\n",
       " 'label': tensor([[   0,    0,    0,    0,    0,    0,    0,    0, 1996,    0,    0,    0,\n",
       "             0,    0,    0,    0,    0,    0,    0,    0, 2058,    0,    0,    0,\n",
       "          1005, 1055,    0,    0,    0,    0,    0,    0,    0,    0,    0,    0,\n",
       "             0,    0,    0,    0,    0,    0,    0,    0,    0,    0,    0,    0,\n",
       "             0,    0,    0,    0,    0,    0,    0,    0,    0,    0,    0,    0,\n",
       "             0,    0,    0,    0],\n",
       "         [   0,    0,    0,    0,    0,    0,    0,    0,    0,    0,    0,    0,\n",
       "             0,    0,    0,    0,    0,    0,    0,    0,    0,    0,    0,    0,\n",
       "             0, 1997,    0,    0,    0,    0,    0,    0,    0,    0,    0,    0,\n",
       "             0,    0,    0,    0,    0,    0,    0,    0,    0,    0,    0,    0,\n",
       "             0,    0,    0,    0,    0,    0,    0,    0,    0,    0,    0,    0,\n",
       "             0,    0,    0,    0]]),\n",
       " 'segment': tensor([[1, 1, 1, 1, 1, 1, 1, 1, 1, 1, 1, 1, 1, 1, 1, 1, 1, 1, 2, 2, 2, 2, 2, 2,\n",
       "          2, 2, 2, 2, 2, 0, 0, 0, 0, 0, 0, 0, 0, 0, 0, 0, 0, 0, 0, 0, 0, 0, 0, 0,\n",
       "          0, 0, 0, 0, 0, 0, 0, 0, 0, 0, 0, 0, 0, 0, 0, 0],\n",
       "         [1, 1, 1, 1, 1, 1, 1, 1, 1, 1, 1, 1, 1, 1, 1, 1, 1, 2, 2, 2, 2, 2, 2, 2,\n",
       "          2, 2, 2, 2, 2, 2, 0, 0, 0, 0, 0, 0, 0, 0, 0, 0, 0, 0, 0, 0, 0, 0, 0, 0,\n",
       "          0, 0, 0, 0, 0, 0, 0, 0, 0, 0, 0, 0, 0, 0, 0, 0]]),\n",
       " 'subseq': tensor([0, 0])}"
      ]
     },
     "execution_count": 195,
     "metadata": {},
     "output_type": "execute_result"
    }
   ],
   "source": [
    "batch = next(iter(dl))\n",
    "batch"
   ]
  },
  {
   "cell_type": "markdown",
   "id": "fae6b813",
   "metadata": {},
   "source": [
    "#### Visualize encoded sequence"
   ]
  },
  {
   "cell_type": "code",
   "execution_count": 196,
   "id": "44515720",
   "metadata": {},
   "outputs": [
    {
     "data": {
      "text/plain": [
       "\"[CLS] usually, he would be tearing around [MASK] living room, playing with his toys. [SEP] megan bent [MASK] to kiss mason's cheek. [SEP] [PAD] [PAD] [PAD] [PAD] [PAD] [PAD] [PAD] [PAD] [PAD] [PAD] [PAD] [PAD] [PAD] [PAD] [PAD] [PAD] [PAD] [PAD] [PAD] [PAD] [PAD] [PAD] [PAD] [PAD] [PAD] [PAD] [PAD] [PAD] [PAD] [PAD] [PAD] [PAD] [PAD] [PAD] [PAD] [CLS] but just one look at a minion sent him practically catatonic. [SEP] her mother's voice brought megan out [MASK] her thoughts. [SEP] [PAD] [PAD] [PAD] [PAD] [PAD] [PAD] [PAD] [PAD] [PAD] [PAD] [PAD] [PAD] [PAD] [PAD] [PAD] [PAD] [PAD] [PAD] [PAD] [PAD] [PAD] [PAD] [PAD] [PAD] [PAD] [PAD] [PAD] [PAD] [PAD] [PAD] [PAD] [PAD] [PAD] [PAD]\""
      ]
     },
     "execution_count": 196,
     "metadata": {},
     "output_type": "execute_result"
    }
   ],
   "source": [
    "from itertools import chain\n",
    "flattened = list(chain(*((batch[\"input\"]))))\n",
    "tokenizer.decode(flattened)"
   ]
  },
  {
   "cell_type": "markdown",
   "id": "c828f7d6",
   "metadata": {},
   "source": [
    "## Embedding"
   ]
  },
  {
   "cell_type": "code",
   "execution_count": 197,
   "id": "4fc6b1c2",
   "metadata": {},
   "outputs": [],
   "source": [
    "import torch\n",
    "import torch.nn as nn\n",
    "import math\n",
    "\n",
    "\n",
    "class PositionEmbedding(torch.nn.Module):\n",
    "    def __init__(self, embed_size, seq_len):\n",
    "        super().__init__()\n",
    "        n = 10000 # scalar for pos encoding\n",
    "        # create embedding matrix dim(seq_len  x embed_size)\n",
    "        self.embed_matrix = torch.zeros(seq_len, embed_size).float()\n",
    "        # positional encoding not to be updated while gradient descent\n",
    "        self.embed_matrix.require_grad = False\n",
    "        \n",
    "        # compute embedding for each position in input\n",
    "        for position in range(seq_len):\n",
    "            # run trough every component of embedding vector for each position with stride 2\n",
    "            for c in range(0, embed_size, 2):\n",
    "                # even \n",
    "                self.embed_matrix[position,c] = math.sin(position/(n**(2*c/embed_size)))\n",
    "                # uneven\n",
    "                self.embed_matrix[position,c+1] = math.cos(position/(n**(2*c/embed_size)))\n",
    "        \n",
    "        # self.embed_matrix =  embed_matrix.unsqueeze(0) \n",
    "    def forward(self, x):\n",
    "        return self.embed_matrix\n",
    "            \n",
    "\n",
    "class BERTEmbedding(torch.nn.Module):\n",
    "    def __init__(self, vocab_size, seq_len, n_segments=N_SEGMENTS, embed_size=EMBED_SIZE, dropout=DROPOUT):\n",
    "        super().__init__()\n",
    "        # token embedding: transforms (vocabulary size, number of tokens) into (vocabulary size, number of tokens, length of embdding vector)\n",
    "        self.token = nn.Embedding(vocab_size, embed_size, padding_idx=0) # padding remains 0 during training\n",
    "        # segment embedding for sentence 1, sentence 2, padding\n",
    "        self.segment = nn.Embedding(n_segments, embed_size, padding_idx=0)\n",
    "        # embedding of position\n",
    "        self.position = PositionEmbedding(embed_size, seq_len) \n",
    "        # droput probability per token\n",
    "        self.dropout = nn.Dropout(p=dropout)\n",
    "    \n",
    "    def forward(self, sequence, seg_label):\n",
    "        return self.dropout(self.token(sequence) + self.segment(seg_label) + self.position(sequence))        \n",
    "    "
   ]
  },
  {
   "cell_type": "code",
   "execution_count": 198,
   "id": "75a36f39",
   "metadata": {},
   "outputs": [
    {
     "name": "stdout",
     "output_type": "stream",
     "text": [
      "torch.Size([64])\n",
      "tensor([  101,  2788,  1010,  2002,  2052,  2022, 13311,  2105,   103,  2542,\n",
      "         2282,  1010,  2652,  2007,  2010, 10899,  1012,   102, 12756,  6260,\n",
      "          103,  2000,  3610,  6701,  1005,  1055,  5048,  1012,   102,     0,\n",
      "            0,     0,     0,     0,     0,     0,     0,     0,     0,     0,\n",
      "            0,     0,     0,     0,     0,     0,     0,     0,     0,     0,\n",
      "            0,     0,     0,     0,     0,     0,     0,     0,     0,     0,\n",
      "            0,     0,     0,     0])\n",
      "torch.Size([64])\n",
      "tensor([1, 1, 1, 1, 1, 1, 1, 1, 1, 1, 1, 1, 1, 1, 1, 1, 1, 1, 2, 2, 2, 2, 2, 2,\n",
      "        2, 2, 2, 2, 2, 0, 0, 0, 0, 0, 0, 0, 0, 0, 0, 0, 0, 0, 0, 0, 0, 0, 0, 0,\n",
      "        0, 0, 0, 0, 0, 0, 0, 0, 0, 0, 0, 0, 0, 0, 0, 0])\n",
      "torch.Size([64, 768])\n"
     ]
    }
   ],
   "source": [
    "# embedding test: tokenized sequence\n",
    "sample_seq = batch['input'][0] \n",
    "sample_seg = batch['segment'][0]\n",
    "print(sample_seq.size())\n",
    "print(sample_seq)\n",
    "print(sample_seg.size())\n",
    "print(sample_seg)\n",
    "\n",
    "bert = BERTEmbedding(VOCAB_SIZE, SEQ_LEN, N_SEGMENTS)\n",
    "\n",
    "batch_embed = bert(batch['input'][0], batch['segment'][0])\n",
    "\n",
    "print(batch_embed.size())"
   ]
  },
  {
   "cell_type": "markdown",
   "id": "1226e006",
   "metadata": {},
   "source": [
    "## Finetuning\n",
    "\n",
    "Cant be downloaded automatically from huggingface. Needs to be downloaded manually:\n",
    "\n",
    "1) download from kaggle and \n",
    "2) extract in finetuning folder \n",
    "3) Delete the zips"
   ]
  },
  {
   "cell_type": "code",
   "execution_count": 199,
   "id": "b2f30c9c",
   "metadata": {
    "scrolled": true
   },
   "outputs": [
    {
     "name": "stderr",
     "output_type": "stream",
     "text": [
      "Found cached dataset jigsaw_toxicity_pred (C:/Users/Johannes/.cache/huggingface/datasets/jigsaw_toxicity_pred/default-ebae0308d0d3f840/1.1.0/9cf096ac4341c35839bc8a9f6a19d93e18e5ad3d84cf05f690d2bc6f7384af85)\n"
     ]
    },
    {
     "data": {
      "application/vnd.jupyter.widget-view+json": {
       "model_id": "56cd42b144c4479b84155ebdd362365f",
       "version_major": 2,
       "version_minor": 0
      },
      "text/plain": [
       "  0%|          | 0/2 [00:00<?, ?it/s]"
      ]
     },
     "metadata": {},
     "output_type": "display_data"
    },
    {
     "data": {
      "text/plain": [
       "DatasetDict({\n",
       "    train: Dataset({\n",
       "        features: ['comment_text', 'toxic', 'severe_toxic', 'obscene', 'threat', 'insult', 'identity_hate'],\n",
       "        num_rows: 159571\n",
       "    })\n",
       "    test: Dataset({\n",
       "        features: ['comment_text', 'toxic', 'severe_toxic', 'obscene', 'threat', 'insult', 'identity_hate'],\n",
       "        num_rows: 63978\n",
       "    })\n",
       "})"
      ]
     },
     "execution_count": 199,
     "metadata": {},
     "output_type": "execute_result"
    }
   ],
   "source": [
    "# toxic_path = r\"C:\\Users\\morit\\OneDrive\\UNI\\Master\\WS23\\PML\\repo\\bert_from_scratch.toxic_comment\\datasets\\finetuning\\kaggle-toxic_comment\"\n",
    "toxic_path = r\"C:\\Users\\Johannes\\Project Machine Learning\\datasets\\finetuning\\toxic_comment\"\n",
    "toxic_dataset = load_dataset(\"jigsaw_toxicity_pred\", data_dir=toxic_path)\n",
    "toxic_dataset"
   ]
  },
  {
   "cell_type": "markdown",
   "id": "f3dd0356",
   "metadata": {},
   "source": [
    "#### Test with standard dataloader"
   ]
  },
  {
   "cell_type": "code",
   "execution_count": 200,
   "id": "f394a9e5",
   "metadata": {},
   "outputs": [
    {
     "data": {
      "text/plain": [
       "{'comment_text': ['ASAP before the case is closed'],\n",
       " 'toxic': tensor([0]),\n",
       " 'severe_toxic': tensor([0]),\n",
       " 'obscene': tensor([0]),\n",
       " 'threat': tensor([0]),\n",
       " 'insult': tensor([0]),\n",
       " 'identity_hate': tensor([0])}"
      ]
     },
     "execution_count": 200,
     "metadata": {},
     "output_type": "execute_result"
    }
   ],
   "source": [
    "from torch.utils.data import DataLoader\n",
    "dataloader = DataLoader(toxic_dataset[\"train\"], batch_size=1, shuffle = True)\n",
    "batch = next(iter(dataloader))\n",
    "batch"
   ]
  },
  {
   "cell_type": "markdown",
   "id": "4203ec61",
   "metadata": {},
   "source": [
    "#### Standard Tokenizer not sufficient, padding is missing and probably also truncation"
   ]
  },
  {
   "cell_type": "code",
   "execution_count": 201,
   "id": "2a7997a3",
   "metadata": {
    "scrolled": true
   },
   "outputs": [
    {
     "data": {
      "text/plain": [
       "{'input_ids': [[101, 17306, 2361, 2077, 1996, 2553, 2003, 2701, 102]], 'token_type_ids': [[0, 0, 0, 0, 0, 0, 0, 0, 0]], 'attention_mask': [[1, 1, 1, 1, 1, 1, 1, 1, 1]]}"
      ]
     },
     "execution_count": 201,
     "metadata": {},
     "output_type": "execute_result"
    }
   ],
   "source": [
    "encoded_input = tokenizer(batch[\"comment_text\"])\n",
    "encoded_input"
   ]
  },
  {
   "cell_type": "code",
   "execution_count": 202,
   "id": "dc5db146",
   "metadata": {},
   "outputs": [
    {
     "data": {
      "text/plain": [
       "'[CLS] asap before the case is closed [SEP]'"
      ]
     },
     "execution_count": 202,
     "metadata": {},
     "output_type": "execute_result"
    }
   ],
   "source": [
    "from itertools import chain\n",
    "flattened = list(chain(*(encoded_input[\"input_ids\"])))\n",
    "tokenizer.decode(flattened)"
   ]
  },
  {
   "cell_type": "markdown",
   "id": "5411158c",
   "metadata": {},
   "source": [
    "#### Custom Dataset"
   ]
  },
  {
   "cell_type": "code",
   "execution_count": 203,
   "id": "65f9e9a6",
   "metadata": {},
   "outputs": [],
   "source": [
    "class ToxicComment(Dataset):\n",
    "    \n",
    "    def __init__(self, tokenizer, seq_len=SEQ_LEN, split=\"train\", n_rows:int=None):\n",
    "        \n",
    "        if not split in [\"train\",\"test\"]:\n",
    "            raise ValueError(\"Parameter has to be 'train' or 'test'\")\n",
    "            \n",
    "        if n_rows is not None:\n",
    "            self.dataset = load_dataset(\"jigsaw_toxicity_pred\", data_dir=toxic_path, split=split+\"[0:\"+str(n_rows)+\"]\")#[split]\n",
    "        else:\n",
    "            self.dataset = load_dataset(\"jigsaw_toxicity_pred\", data_dir=toxic_path)#[split]\n",
    "        \n",
    "        \n",
    "        self.nrows = len(self.dataset) \n",
    "        self.tokenizer = tokenizer\n",
    "        self.seq_len = seq_len\n",
    "\n",
    "    def __len__(self):\n",
    "        return self.nrows\n",
    "\n",
    "    def __getitem__(self, item):\n",
    "        \n",
    "        # Step 1: get row\n",
    "        output = self.dataset[item]\n",
    "        #print(output)\n",
    "        \"\"\"        output = {\n",
    "            \"input\": torch.tensor(model_input),\n",
    "            \"label\": torch.tensor(model_label),\n",
    "            \"segment\": torch.tensor(segment),\n",
    "            \"subseq\": torch.tensor(subseq)\n",
    "        }\"\"\"\n",
    "        \n",
    "        # Step 2: tokenize comment\n",
    "        output[\"input\"] = tokenizer(\n",
    "            output[\"comment_text\"],\n",
    "            max_length=self.seq_len ,\n",
    "            padding=\"max_length\", \n",
    "            truncation=True, \n",
    "            return_tensors='pt'\n",
    "        )[\"input_ids\"]\n",
    "        \n",
    "        # flatten output\n",
    "        output[\"input\"] = output[\"input\"].squeeze()\n",
    "        \n",
    "        output.pop(\"comment_text\") #delete raw text\n",
    "        \n",
    "        # Step 3: add segment_label like in pretraining task for consistency \n",
    "        # output[\"label\"] = torch.zeros(self.seq_len) # this is not embedded anywhere so we can cut this\n",
    "        output[\"segment\"] = torch.ones(self.seq_len)\n",
    "        \n",
    "        # Step 4: collect different labels to one tensor \n",
    "        # TODO: desired?\n",
    "        \n",
    "        return output\n",
    "\n",
    "    \n",
    "    def get_sent(self, index): #selfmade\n",
    "        '''gets sentence pair as dicitinary s1, s2, isNext'''\n",
    "        isNext = random.random() > 0.5\n",
    "        \n",
    "        t1 = self.dataset[index][\"text\"]\n",
    "        if isNext:\n",
    "            t2 = self.dataset[index+1][\"text\"]\n",
    "            return t1, t2, 1\n",
    "        else:\n",
    "            t2 = self.get_random_line(index+1)[\"text\"]\n",
    "            return t1, t2, 0\n",
    "        "
   ]
  },
  {
   "cell_type": "markdown",
   "id": "f5a7d0bf",
   "metadata": {},
   "source": [
    "#### Test Dataset"
   ]
  },
  {
   "cell_type": "code",
   "execution_count": 204,
   "id": "12bf7b03",
   "metadata": {},
   "outputs": [
    {
     "name": "stderr",
     "output_type": "stream",
     "text": [
      "Found cached dataset jigsaw_toxicity_pred (C:/Users/Johannes/.cache/huggingface/datasets/jigsaw_toxicity_pred/default-ebae0308d0d3f840/1.1.0/9cf096ac4341c35839bc8a9f6a19d93e18e5ad3d84cf05f690d2bc6f7384af85)\n"
     ]
    },
    {
     "data": {
      "text/plain": [
       "100"
      ]
     },
     "execution_count": 204,
     "metadata": {},
     "output_type": "execute_result"
    }
   ],
   "source": [
    "test2 = ToxicComment(tokenizer=tokenizer, seq_len=SEQ_LEN, split = \"train\", n_rows = 100)\n",
    "len(test2)"
   ]
  },
  {
   "cell_type": "code",
   "execution_count": 205,
   "id": "d3c0766c",
   "metadata": {},
   "outputs": [
    {
     "data": {
      "text/plain": [
       "{'toxic': tensor([0]),\n",
       " 'severe_toxic': tensor([0]),\n",
       " 'obscene': tensor([0]),\n",
       " 'threat': tensor([0]),\n",
       " 'insult': tensor([0]),\n",
       " 'identity_hate': tensor([0]),\n",
       " 'input': tensor([[  101,  7526,  2339,  1996, 10086,  2015,  2081,  2104,  2026,  5310,\n",
       "          18442, 13076, 12392,  2050,  5470,  2020, 16407,  1029,  2027,  4694,\n",
       "           1005,  1056,  3158,  9305, 22556,  1010,  2074,  8503,  2006,  2070,\n",
       "           3806,  2044,  1045,  5444,  2012,  2047,  2259, 14421,  6904,  2278,\n",
       "           1012,  1998,  3531,  2123,  1005,  1056,  6366,  1996, 23561,  2013,\n",
       "           1996,  2831,  3931,  2144,  1045,  1005,  1049,  3394,  2085,  1012,\n",
       "           6486,  1012, 16327,   102]]),\n",
       " 'segment': tensor([[1., 1., 1., 1., 1., 1., 1., 1., 1., 1., 1., 1., 1., 1., 1., 1., 1., 1.,\n",
       "          1., 1., 1., 1., 1., 1., 1., 1., 1., 1., 1., 1., 1., 1., 1., 1., 1., 1.,\n",
       "          1., 1., 1., 1., 1., 1., 1., 1., 1., 1., 1., 1., 1., 1., 1., 1., 1., 1.,\n",
       "          1., 1., 1., 1., 1., 1., 1., 1., 1., 1.]])}"
      ]
     },
     "execution_count": 205,
     "metadata": {},
     "output_type": "execute_result"
    }
   ],
   "source": [
    "dl2 = DataLoader(test2,batch_size=1,shuffle=False)\n",
    "batch = next(iter(dl2))\n",
    "batch"
   ]
  },
  {
   "cell_type": "code",
   "execution_count": 206,
   "id": "eeff4286",
   "metadata": {},
   "outputs": [
    {
     "data": {
      "text/plain": [
       "8"
      ]
     },
     "execution_count": 206,
     "metadata": {},
     "output_type": "execute_result"
    }
   ],
   "source": [
    "len(batch)"
   ]
  },
  {
   "cell_type": "code",
   "execution_count": 208,
   "id": "82fd79a8",
   "metadata": {},
   "outputs": [
    {
     "data": {
      "text/plain": [
       "64"
      ]
     },
     "execution_count": 208,
     "metadata": {},
     "output_type": "execute_result"
    }
   ],
   "source": [
    "len(batch[\"input\"][0])"
   ]
  },
  {
   "cell_type": "markdown",
   "id": "18ed0852",
   "metadata": {},
   "source": [
    "### Embedding"
   ]
  },
  {
   "cell_type": "code",
   "execution_count": 209,
   "id": "42c4a59b",
   "metadata": {},
   "outputs": [
    {
     "name": "stdout",
     "output_type": "stream",
     "text": [
      "sample_seq size torch.Size([64])\n",
      "tensor([  101,  7526,  2339,  1996, 10086,  2015,  2081,  2104,  2026,  5310,\n",
      "        18442, 13076, 12392,  2050,  5470,  2020, 16407,  1029,  2027,  4694,\n",
      "         1005,  1056,  3158,  9305, 22556,  1010,  2074,  8503,  2006,  2070,\n",
      "         3806,  2044,  1045,  5444,  2012,  2047,  2259, 14421,  6904,  2278,\n",
      "         1012,  1998,  3531,  2123,  1005,  1056,  6366,  1996, 23561,  2013,\n",
      "         1996,  2831,  3931,  2144,  1045,  1005,  1049,  3394,  2085,  1012,\n",
      "         6486,  1012, 16327,   102])\n",
      "sample_seg size torch.Size([64])\n",
      "tensor([1., 1., 1., 1., 1., 1., 1., 1., 1., 1., 1., 1., 1., 1., 1., 1., 1., 1.,\n",
      "        1., 1., 1., 1., 1., 1., 1., 1., 1., 1., 1., 1., 1., 1., 1., 1., 1., 1.,\n",
      "        1., 1., 1., 1., 1., 1., 1., 1., 1., 1., 1., 1., 1., 1., 1., 1., 1., 1.,\n",
      "        1., 1., 1., 1., 1., 1., 1., 1., 1., 1.])\n",
      "torch.Size([64, 768])\n"
     ]
    }
   ],
   "source": [
    "# embedding test: tokenized sequence\n",
    "sample_seq = batch['input'][0] \n",
    "sample_seg = batch['segment'][0]\n",
    "print(f'sample_seq size {sample_seq.size()}')\n",
    "print(sample_seq)\n",
    "print(f'sample_seg size {sample_seg.size()}')\n",
    "print(sample_seg)\n",
    "\n",
    "bert = BERTEmbedding(VOCAB_SIZE, SEQ_LEN)\n",
    "\n",
    "batch_embed = bert(batch['input'][0].long(), batch['segment'][0].long())\n",
    "\n",
    "print(batch_embed.size())"
   ]
  },
  {
   "cell_type": "markdown",
   "id": "0107853a",
   "metadata": {},
   "source": [
    "# Model"
   ]
  },
  {
   "cell_type": "code",
   "execution_count": 210,
   "id": "759b5d83",
   "metadata": {},
   "outputs": [],
   "source": [
    "import torch\n",
    "import torch.nn as nn\n",
    "\n",
    "# attention heads\n",
    "class MultiHeadAttention(nn.Module):\n",
    "    def __init__(self, number_heads, model_dimension):\n",
    "        super(MultiHeadAttention, self).__init__()\n",
    "        \n",
    "        # model dimension must be divideable into equal parts for the attention heads\n",
    "        assert model_dimension%number_heads == 0\n",
    "        self.number_heads = number_heads\n",
    "        self.att_head_dim = int(model_dimension/number_heads)\n",
    "        \n",
    "        # attention mechanism: query, key, value are linear embeddings -> embedding matrix dim: (model_dimension x model_dimension)\n",
    "        self.query = nn.Linear(model_dimension, model_dimension)\n",
    "        self.key = nn.Linear(model_dimension, model_dimension)\n",
    "        self.value = nn.Linear(model_dimension, model_dimension)\n",
    "        self.lin_output = nn.Linear(model_dimension, model_dimension)\n",
    "    \n",
    "    def forward(self, query, key, value, mask):\n",
    "        \n",
    "        # output dim (batch_size x seq_len x model_dimension) \n",
    "        query = self.query(query)\n",
    "        key = self.key(key)        \n",
    "        value = self.value(value) \n",
    "        \n",
    "        # transform q,k,v to fit attention heads:(batch_size x seq_len x model_dimension) -> (batch_size x number_heads x seq_len x att_head_dim)\n",
    "        query = query.view(query.shape[0], query.shape[1], self.number_heads, self.att_head_dim)\n",
    "        query = query.permute(0,2,1,3)\n",
    "        key = key.view(key.shape[0], key.shape[1], self.number_heads, self.att_head_dim)\n",
    "        key = key.permute(0,2,1,3)\n",
    "        value = value.view(value.shape[0], value.shape[1], self.number_heads, self.att_head_dim)\n",
    "        value = value.permute(0,2,1,3)\n",
    "        \n",
    "        # calculate dot product between each query and each key and normaliz the output, output dim: (batch_size x number_heads x seq_len x seq_len)\n",
    "        score = torch.matmul(query, key.permute(0, 1, 3, 2)) \n",
    "        score_n = score / math.sqrt(self.att_head_dim) # normalize: <q,k>/sqrt(d_k)\n",
    "        \n",
    "        # mask 0 with -infinity so it becomes 0 after softmax, output dim: (batch_size x number_heads x seq_len x seq_len)\n",
    "        score_m = score_n.masked_fill(mask == 0, -1e10)    \n",
    "        \n",
    "        # softmax scores along each query, output dim: (batch_size x number_heads x seq_len x seq_len)\n",
    "        score_w = nn.functional.softmax(score_m, dim=-1) \n",
    "        \n",
    "        # multiply with value matrix: output weighted sum for each query, output dim: (batch_size x number_heads x seq_len x att_head_dim)\n",
    "        weighted_sum = torch.matmul(score_w, value)\n",
    "        \n",
    "        # concatenate attention heads to 1 output, output dim: (batch_size x number_heads x model_dimension)\n",
    "        weighted_sum = weighted_sum.permute(0, 2, 1, 3).contiguous().view(weighted_sum.shape[0], -1, self.number_heads * self.att_head_dim)\n",
    "        \n",
    "        # linear embedding for output\n",
    "        out = self.lin_output(weighted_sum)      \n",
    "        return out    "
   ]
  },
  {
   "cell_type": "code",
   "execution_count": 211,
   "id": "c977081f",
   "metadata": {},
   "outputs": [],
   "source": [
    "# feedforward layer\n",
    "class FeedForwardLayer(nn.Module):\n",
    "    def __init__(self, model_dimension, hidden_dimension):\n",
    "        super(FeedForwardLayer, self).__init__()\n",
    "        \n",
    "        # linear layer\n",
    "        self.linear1 = nn.Linear(model_dimension, hidden_dimension)\n",
    "        self.linear2 = nn.Linear(hidden_dimension, model_dimension)\n",
    "        # non-linearity\n",
    "        self.non_linear = nn.ReLU()\n",
    "    \n",
    "    def forward(self, x):\n",
    "        return self.linear2(self.non_linear(self.linear1(x)))       "
   ]
  },
  {
   "cell_type": "code",
   "execution_count": 212,
   "id": "870b484a",
   "metadata": {},
   "outputs": [],
   "source": [
    "# encoder stacks together all the previous modules\n",
    "class Encoder(nn.Module):\n",
    "    def __init__(self, model_dimension=EMBED_SIZE, number_heads=12, ff_hidden_dim=EMBED_SIZE*4):\n",
    "        super(Encoder, self).__init__()\n",
    "        # attention heads\n",
    "        self.multihead_attention = MultiHeadAttention (number_heads, model_dimension)\n",
    "        # normalisation layer\n",
    "        self.normlayer = nn.LayerNorm(model_dimension)\n",
    "        self.feedforward_layer = FeedForwardLayer(model_dimension, hidden_dimension=ff_hidden_dim)\n",
    "    \n",
    "    # also residuals possible here\n",
    "    def forward(self, x, mask):\n",
    "        # input x 3x to generate query, key, value\n",
    "        x = self.normlayer(self.multihead_attention(x, x, x, mask))\n",
    "        return self.normlayer(self.feedforward_layer(x))"
   ]
  },
  {
   "cell_type": "code",
   "execution_count": 220,
   "id": "82f4474a",
   "metadata": {},
   "outputs": [],
   "source": [
    "# model class according to task sheet\n",
    "class Model(nn.Module):\n",
    "    def __init__(self, vocab_size, model_dimension, number_layers=12, number_heads=12):\n",
    "        super().__init__()\n",
    "        self.model_dimension=model_dimension\n",
    "        self.number_layers=number_layers\n",
    "        self.number_heads=number_heads\n",
    "        # hidden layer dimenion of FF is 4*model_dimension (see paper)\n",
    "        self.ff_hidden_layer = 4*model_dimension\n",
    "        # embedding of input \n",
    "        self.embedding = BERTEmbedding(vocab_size=vocab_size, seq_len=SEQ_LEN, embed_size=model_dimension)\n",
    "        # stack encoders\n",
    "        self.encoders = torch.nn.ModuleList() # create empty module list\n",
    "        for _ in range(self.number_layers):\n",
    "            self.encoders.append(Encoder(model_dimension=model_dimension, number_heads=number_heads, ff_hidden_dim=4*model_dimension))\n",
    "        \n",
    "    def forward(self, x, segment_info):\n",
    "        x = self.embedding(x, segment_info) # copied: what is segment_info? to be changed\n",
    "        # mask padded input, output dim: (batch_size, 1, seq_len, seq_len)\n",
    "        mask = (x > 0).unsqueeze(1).unsqueeze(2).expand(-1, x.size(1), x.size(1), -1)\n",
    "        # run trough encoders\n",
    "        for encoder in self.encoders:\n",
    "            x =encoder.forward(x, mask)\n",
    "        return x"
   ]
  },
  {
   "cell_type": "code",
   "execution_count": 214,
   "id": "43b81c0b",
   "metadata": {},
   "outputs": [],
   "source": [
    "# pretraining\n",
    "class MaskedPrediction(nn.Module):\n",
    "    \"\"\"\n",
    "    This class predicts the original token which was replaced by a mask. \n",
    "    \"\"\"\n",
    "    def __init__(self, bert_out, vocab_size):\n",
    "        super().__init__()\n",
    "        self.linear = nn.Linear(bert_out, vocab_size)\n",
    "        self.softmax = nn.LogSoftmax(dim=-1)\n",
    "        \n",
    "    def forward(self, x):\n",
    "        return self.softmax(self.linear(x))"
   ]
  },
  {
   "cell_type": "code",
   "execution_count": 215,
   "id": "2732c9f4",
   "metadata": {},
   "outputs": [],
   "source": [
    "# pretraining\n",
    "class NextSentencePrediction(nn.Module):\n",
    "    \"\"\"\n",
    "    class to predict two classes: is next, not_next\n",
    "    \"\"\"\n",
    "    def __init__(self, bert_out):\n",
    "        super().__init__()\n",
    "        self.linear = nn.Linear(bert_out, 2)\n",
    "        self.softmax = nn.LogSoftmax(dim=-1)\n",
    "        \n",
    "    def forward(self, x):\n",
    "        return self.softmax(self.linear(x))"
   ]
  },
  {
   "cell_type": "code",
   "execution_count": 216,
   "id": "33c67f55",
   "metadata": {},
   "outputs": [],
   "source": [
    "# finetuning\n",
    "class ToxicityPrediction(nn.Module):\n",
    "    \"\"\"\n",
    "    class to predict multivariate class of toxicity\n",
    "    \"\"\"\n",
    "    def __init__(self, bert_out):\n",
    "        super().__init__()\n",
    "        self.tox_classes = 6 # there are 6 classes of toxicity in the dataset\n",
    "        self.linear = nn.Linear(bert_out, self.tox_classes)\n",
    "        self.softmax = nn.LogSoftmax(dim=-1)\n",
    "        \n",
    "    def forward(self, x):\n",
    "        return self.softmax(self.linear(x))"
   ]
  },
  {
   "cell_type": "code",
   "execution_count": 217,
   "id": "66999e4b",
   "metadata": {},
   "outputs": [],
   "source": [
    "# fuse to one model \n",
    "class BERT(nn.Module):\n",
    "    \"\"\"\n",
    "    pertraining: masked token prediction, next sentence prediction, \n",
    "    finetuning: toxic comment prediction\n",
    "    \"\"\"\n",
    "    def __init__(self, base_model, vocab_size):\n",
    "        super().__init__()\n",
    "        # base BERT model\n",
    "        self.base_model = base_model\n",
    "        # masked token classfication layer\n",
    "        self.masked_pred = MaskedPrediction(self.base_model.model_dimension, vocab_size)\n",
    "        # next sentence predicton layer\n",
    "        self.next_sentence = NextSentencePrediction(self.base_model.model_dimension)\n",
    "        # toxic comment classfication layer\n",
    "        self.toxic_comment = ToxicityPrediction(self.base_model.model_dimension)\n",
    "    \n",
    "    def forward(self, x, segment_label):\n",
    "        x = self.base_model(x, segment_label)\n",
    "        return self.next_sentence(x), self.masked_pred(x)"
   ]
  },
  {
   "cell_type": "markdown",
   "id": "8ad0c699",
   "metadata": {},
   "source": [
    "# Training"
   ]
  },
  {
   "cell_type": "code",
   "execution_count": 218,
   "id": "afb04877",
   "metadata": {},
   "outputs": [],
   "source": [
    "import torch.optim as optim\n",
    "from torch.optim.lr_scheduler import StepLR\n",
    "import tqdm\n",
    "import torch.nn as nn\n",
    "\n",
    "# copied: reproduce\n",
    "class TrainBERT:\n",
    "    def __init__(self, model, train_dataloader, test_dataloader=None, learning_rate=1e-4, weight_decay=0.01, betas=(0.9, 0.999), log_freq=10, device='cuda'):\n",
    "        self.device = device\n",
    "        self.model = model\n",
    "        self.training_data = train_dataloader\n",
    "        self.testing_data = test_dataloader\n",
    "\n",
    "        # optimizer: Adam\n",
    "        self.optimizer = optim.Adam(self.model.parameters(), lr=learning_rate, betas=betas, weight_decay=weight_decay)\n",
    "        self.scheduler = StepLR(self.optimizer, step_size=5, gamma=0.1)\n",
    "\n",
    "        # cost function negative log likelihood loss for masked token prediction\n",
    "        self.criterion = nn.NLLLoss(ignore_index=0)\n",
    "        self.log_freq = log_freq\n",
    "        print(\"Total Parameters:\", sum([p.nelement() for p in self.model.parameters()]))\n",
    "\n",
    "    def training(self, epoch):\n",
    "        self.iteration(epoch, self.training_data)\n",
    "\n",
    "    def testing(self, epoch):\n",
    "        self.iteration(epoch, self.testing_data, train=False)\n",
    "\n",
    "    def iteration(self, epoch, data_loader, train=True):\n",
    "        avg_loss = 0.0\n",
    "        total_correct = 0\n",
    "        total_element = 0\n",
    "\n",
    "        mode = \"train\" if train else \"test\"\n",
    "\n",
    "        # progress bar\n",
    "        data_iter = tqdm.tqdm(\n",
    "            enumerate(data_loader),\n",
    "            desc=\"EP_%s:%d\" % (mode, epoch),\n",
    "            total=len(data_loader),\n",
    "            bar_format=\"{l_bar}{r_bar}\"\n",
    "        )\n",
    "\n",
    "        for i, data in data_iter:\n",
    "            # 0. batch_data will be sent into the device(GPU or cpu)\n",
    "            data = {key: value.to(self.device) for key, value in data.items()}\n",
    "\n",
    "            # 1. forward the next_sentence_prediction and masked_lm model\n",
    "            next_sent_output, mask_lm_output = self.model.forward(data[\"input\"], data[\"segment\"])\n",
    "\n",
    "            # 2-1. NLL(negative log likelihood) loss of is_next classification result\n",
    "            next_loss = self.criterion(next_sent_output, data[\"is_next\"])\n",
    "\n",
    "            # 2-2. NLLLoss of predicting masked token word\n",
    "            # transpose to (m, vocab_size, seq_len) vs (m, seq_len)\n",
    "            mask_loss = self.criterion(mask_lm_output.transpose(1, 2), data[\"bert_label\"])\n",
    "\n",
    "            # 2-3. Adding next_loss and mask_loss: 3.4 Pre-training Procedure\n",
    "            loss = next_loss + mask_loss\n",
    "\n",
    "            # 3. backward and optimization only in train\n",
    "            if train:\n",
    "                self.optimizer.zero_grad()\n",
    "                loss.backward()\n",
    "                self.optimizer.step()\n",
    "\n",
    "            # next sentence prediction accuracy\n",
    "            correct = next_sent_output.argmax(dim=-1).eq(data[\"is_next\"]).sum().item()\n",
    "            avg_loss += loss.item()\n",
    "            total_correct += correct\n",
    "            total_element += data[\"is_next\"].nelement()\n",
    "\n",
    "            post_fix = {\n",
    "                \"epoch\": epoch,\n",
    "                \"iter\": i,\n",
    "                \"avg_loss\": avg_loss / (i + 1),\n",
    "                \"avg_acc\": total_correct / total_element * 100,\n",
    "                \"loss\": loss.item()\n",
    "            }\n",
    "\n",
    "            if i % self.log_freq == 0:\n",
    "                data_iter.write(str(post_fix)\n",
    "        )\n",
    "\n",
    "        print(\n",
    "            f\"EP{epoch}, {mode}: \\\n",
    "            avg_loss={avg_loss / len(data_iter)}, \\\n",
    "            total_acc={total_correct * 100.0 / total_element}\"\n",
    "        )\n"
   ]
  },
  {
   "cell_type": "code",
   "execution_count": 219,
   "id": "e2a6901c",
   "metadata": {},
   "outputs": [
    {
     "name": "stderr",
     "output_type": "stream",
     "text": [
      "Found cached dataset bookcorpus (C:/Users/Johannes/.cache/huggingface/datasets/bookcorpus/plain_text/1.0.0/eddee3cae1cc263a431aa98207d4d27fd8a73b0a9742f692af0e6c65afa4d75f)\n"
     ]
    },
    {
     "name": "stdout",
     "output_type": "stream",
     "text": [
      "Total Parameters: 131956802\n"
     ]
    },
    {
     "name": "stderr",
     "output_type": "stream",
     "text": [
      "EP_train:0:   0%|| 0/4 [00:00<?, ?it/s]"
     ]
    },
    {
     "name": "stdout",
     "output_type": "stream",
     "text": [
      "[2043, 2002, 103, 2000, 1059, 14014, 1010, 103, 3184, 103, 103, 1012]\n",
      "[0, 0, 2318, 0, 0, 0, 0, 2016, 0, 2014, 2132, 0]\n",
      "[2016, 14436, 2098, 1996, 2154, 2043, 6701, 2001, 2214, 2438, 2000, 103, 2055, 2010, 103, 1012]\n",
      "[0, 0, 0, 0, 0, 0, 0, 0, 0, 0, 0, 3198, 0, 0, 2269, 0]\n",
      "[2043, 2016, 2001, 2141, 1010, 103, 2001, 2069, 2809, 1998, 1037, 2431, 1012]\n",
      "[0, 0, 0, 0, 0, 2002, 0, 0, 0, 0, 0, 0, 0]\n",
      "[2002, 2018, 103, 2847, 2000, 3173, 2014, 1998, 27594, 2075, 2014, 11083, 1012]\n",
      "[0, 0, 7422, 0, 0, 0, 0, 0, 0, 0, 0, 0, 0]\n",
      "[2013, 1996, 2051, 2016, 2001, 1037, 2210, 2611, 1010, 2016, 2018, 2359, 2498, 2062, 2084, 103, 2393, 2111, 1012]\n",
      "[0, 0, 0, 0, 0, 0, 0, 0, 0, 0, 0, 0, 0, 0, 0, 2000, 0, 0, 0]\n",
      "[2016, 2001, 2467, 2273, 4667, 5055, 2007, 3714, 4777, 2030, 2667, 2000, 24501, 2271, 26243, 3686, 29384, 2040, 2018, 2042, 2718, 2011, 3765, 1012]\n",
      "[0, 0, 0, 0, 0, 0, 0, 0, 0, 0, 0, 0, 0, 0, 0, 0, 29384, 0, 0, 2042, 0, 0, 0, 0]\n",
      "[1036, 1036, 2182, 2057, 2024, 1010, 103, 103, 2016, 2056, 27726, 1012]\n",
      "[0, 0, 0, 0, 0, 0, 1005, 1005, 0, 0, 0, 0]\n",
      "[103, 2830, 1999, 2014, 2835, 1010, 12756, 7168, 1996, 5119, 2006, 1996, 24923, 1012]\n",
      "[6729, 0, 0, 0, 0, 0, 0, 0, 0, 0, 0, 0, 0, 0]\n",
      "[2043, 2016, 2001, 2007, 2032, 1010, 2016, 2018, 103, 2051, 2005, 5702, 1012]\n",
      "[0, 0, 0, 0, 0, 0, 0, 0, 2210, 0, 0, 0, 0]\n",
      "[12756, 2499, 2000, 103, 6701, 2046, 1996, 2482, 2835, 1999, 2014, 3008, 1005, 2455, 13631, 1012]\n",
      "[0, 0, 0, 2131, 0, 0, 0, 0, 0, 0, 0, 3008, 0, 0, 0, 0]\n",
      "[2009, 2001, 2069, 2010, 3857, 2008, 103, 2001, 2635, 2044, 2010, 2269, 1012]\n",
      "[0, 0, 0, 0, 0, 0, 2002, 0, 0, 0, 0, 0, 0]\n",
      "[2073, 12756, 2001, 1037, 103, 103, 103, 11702, 18618, 17878, 1005, 1005, 1010, 4482, 2001, 1020, 1005, 1015, 1005, 1005, 1998, 2048, 103, 7038, 1012]\n",
      "[0, 0, 0, 0, 11737, 2378, 28546, 1019, 1005, 1017, 0, 0, 0, 0, 0, 0, 0, 0, 0, 0, 0, 0, 3634, 0, 0]\n",
      "[2016, 2001, 1050, 1005, 1056, 4527, 2000, 103, 2027, 2018, 3369, 2431, 2019, 3178, 2077, 103, 18336, 103, 1012]\n",
      "[0, 0, 0, 0, 0, 0, 0, 2156, 0, 0, 0, 0, 0, 0, 0, 1996, 0, 2318, 0]\n",
      "[2004, 2027, 2318, 103, 103, 103, 1010, 103, 2388, 2584, 2005, 6701, 1012]\n",
      "[0, 0, 0, 2046, 1996, 2277, 0, 2014, 0, 0, 0, 0, 0]\n",
      "[103, 2001, 1050, 1005, 1056, 2127, 2016, 103, 103, 2293, 2005, 1996, 2034, 2051, 1999, 2014, 2166, 2008, 2016, 4711, 2673, 2185, 1012]\n",
      "[2009, 0, 0, 0, 0, 0, 0, 3062, 1999, 0, 0, 0, 0, 0, 0, 0, 0, 0, 0, 0, 0, 0, 0]\n",
      "[6729, 2830, 1999, 2014, 2835, 1010, 12756, 7168, 1996, 5119, 2006, 103, 24923, 1012]\n",
      "[0, 0, 0, 0, 0, 0, 0, 0, 1996, 0, 0, 1996, 0, 0]\n",
      "[103, 103, 2000, 2202, 1239, 13609, 2015, 2125, 103, 6701, 2001, 103, 103]\n",
      "[2016, 2018, 0, 0, 2195, 0, 0, 0, 2044, 0, 0, 2141, 1012]\n",
      "[2021, 2074, 2028, 2298, 2012, 1037, 103, 103, 2741, 2032, 8134, 4937, 22436, 2594, 1012]\n",
      "[0, 0, 0, 0, 0, 0, 7163, 2239, 0, 0, 0, 0, 0, 0, 0]\n",
      "[2612, 1010, 2010, 3336, 5132, 2815, 103, 103, 1996, 103, 1012]\n",
      "[0, 0, 0, 0, 0, 0, 4208, 2006, 0, 2547, 0]\n",
      "[2144, 1996, 3185, 103, 2471, 2058, 1010, 12756, 103, 2016, 2488, 7540, 2046, 1996, 5010, 1998, 3926, 14347, 3201, 1012]\n",
      "[0, 0, 0, 2001, 0, 0, 0, 0, 2354, 0, 0, 0, 0, 0, 0, 0, 0, 2893, 0, 0]\n",
      "[103, 2001, 2014, 103, 1005, 1055, 3336, 2567, 1998, 2069, 2365, 1997, 1996, 2155, 1012]\n",
      "[12643, 0, 0, 2388, 0, 0, 3336, 0, 0, 0, 0, 0, 0, 0, 0]\n",
      "[2043, 2016, 2001, 103, 1010, 2002, 2001, 2069, 2809, 103, 1037, 2431, 103]\n",
      "[0, 0, 0, 2141, 0, 0, 0, 0, 0, 1998, 0, 0, 1012]\n",
      "[103, 2404, 2006, 2014, 21944, 1011, 1037, 103, 103, 7665, 5592, 2013, 2014, 4470, 12643, 1010, 2030, 1036, 1036, 10792, 1005, 1005, 1010, 2004, 2016, 2411, 2170, 2032, 1012]\n",
      "[2016, 0, 0, 0, 0, 0, 0, 2152, 2082, 0, 0, 0, 0, 0, 0, 0, 0, 0, 0, 0, 0, 0, 0, 0, 0, 0, 0, 0, 0]\n",
      "[2011, 1996, 2051, 2016, 2288, 2067, 103, 2650, 2007, 2014, 103, 1010, 2016, 2018, 4704, 103, 103, 1997, 2966, 2082, 1012]\n",
      "[0, 0, 0, 0, 0, 0, 2006, 0, 0, 0, 7022, 0, 0, 0, 0, 2151, 3246, 0, 0, 0, 0]\n",
      "[2016, 2001, 2467, 26241, 16670, 5055, 2007, 3714, 4777, 2030, 2667, 2000, 24501, 2271, 26243, 3686, 29384, 103, 2018, 2042, 15580, 2011, 3765, 1012]\n",
      "[0, 0, 0, 2273, 4667, 0, 0, 0, 0, 0, 0, 0, 0, 0, 0, 0, 0, 2040, 0, 0, 2718, 0, 0, 0]\n",
      "[2016, 14033, 2098, 103, 4615, 2005, 2652, 1036, 1036, 2902, 1012, 1005, 1005]\n",
      "[0, 0, 0, 2652, 0, 0, 0, 0, 0, 0, 0, 0, 0]\n",
      "[103, 103, 2057, 2031, 2107, 103, 4569, 2154, 103, 1997, 103, 1012]\n",
      "[1036, 1036, 0, 0, 0, 1037, 0, 0, 3805, 0, 2149, 0]\n",
      "[1036, 1036, 2057, 1005, 2222, 2202, 2032, 2061, 2017, 2064, 2175, 2156, 103, 5616, 3791, 2151, 2393, 1012, 1005, 1005]\n",
      "[0, 0, 0, 0, 0, 0, 0, 0, 0, 0, 0, 0, 2065, 0, 0, 0, 0, 0, 0, 0]\n",
      "[6729, 2830, 1999, 2014, 2835, 1010, 12756, 7168, 1996, 103, 2006, 1996, 24923, 1012]\n",
      "[0, 0, 0, 0, 0, 0, 0, 0, 0, 5119, 0, 0, 0, 0]\n",
      "[2016, 2001, 1050, 1005, 1056, 4527, 2000, 2156, 2027, 2018, 3369, 2431, 2019, 3178, 2077, 1996, 103, 2318, 1012]\n",
      "[0, 0, 0, 0, 0, 0, 0, 0, 0, 0, 0, 0, 0, 0, 0, 0, 18336, 0, 0]\n",
      "[1036, 1036, 2748, 1010, 2017, 103, 103, 2893, 2000, 2022, 2107, 1037, 2502, 1010, 103, 103, 1012, 1005, 1005]\n",
      "[0, 0, 0, 0, 0, 1005, 2128, 0, 0, 0, 0, 0, 0, 0, 3082, 2879, 0, 0, 0]\n",
      "[2043, 2027, 2081, 13235, 2000, 1996, 3829, 1010, 12756, 5864, 2000, 4608, 2014, 3052, 1012]\n",
      "[0, 0, 0, 2009, 0, 0, 0, 0, 0, 0, 0, 0, 0, 0, 0]\n",
      "[2612, 1010, 2002, 2359, 2000, 5247, 103, 2051, 2125, 1996, 2492, 103, 103, 2127, 2035, 2847, 1997, 1996, 2305, 1012]\n",
      "[0, 0, 0, 0, 0, 0, 2010, 0, 0, 0, 0, 2283, 2075, 0, 0, 0, 0, 0, 0, 0]\n",
      "[2002, 2069, 23179, 2775, 2490, 103, 12756, 5561, 103, 2031, 2010, 12678, 11721, 6826, 13295, 1012]\n",
      "[0, 0, 3825, 0, 0, 2043, 0, 0, 2000, 0, 0, 0, 0, 0, 0, 0]\n",
      "[2002, 3866, 2068, 2205, 2172, 2000, 2022, 6380, 1012]\n",
      "[0, 0, 0, 0, 0, 0, 0, 0, 0]\n",
      "[103, 1010, 2009, 2001, 2178, 2374, 2447, 1010, 2023, 2051, 1037, 2770, 2067, 103, 1057, 3654, 1010, 2040, 4110, 1998, 2101, 3631, 2014, 2540, 1037, 2095, 2101, 1012]\n",
      "[2612, 0, 0, 0, 0, 0, 0, 0, 0, 0, 0, 0, 0, 2012, 0, 0, 0, 0, 0, 0, 0, 0, 0, 0, 0, 0, 0, 0]\n",
      "[103, 2069, 3825, 2775, 2490, 2043, 12756, 5561, 21546, 2031, 103, 12678, 11721, 6826, 13295, 1012]\n",
      "[2002, 0, 0, 0, 0, 0, 0, 0, 2000, 0, 2010, 0, 0, 0, 0, 0]\n",
      "[2016, 14436, 2098, 1996, 103, 2043, 6701, 2001, 2214, 103, 103, 103, 2055, 2010, 103, 1012]\n",
      "[0, 0, 0, 0, 2154, 0, 0, 0, 0, 2438, 2000, 3198, 0, 0, 2269, 0]\n",
      "[4482, 2018, 2464, 6701, 2069, 3807, 1999, 2010, 6480, 1011, 1996, 2154, 2002, 2018, 2042, 2141, 15812, 1996, 2154, 2002, 2234, 103, 2013, 1996, 2902, 1012]\n",
      "[0, 0, 0, 0, 0, 0, 0, 0, 0, 0, 0, 0, 0, 0, 0, 2141, 1998, 0, 0, 0, 0, 2188, 0, 0, 0, 0]\n",
      "[2002, 2018, 103, 2847, 103, 3173, 2014, 1998, 27594, 2075, 2014, 11083, 1012]\n",
      "[0, 0, 7422, 0, 2000, 0, 0, 0, 0, 0, 0, 0, 0]\n",
      "[2007, 1037, 15081, 1010, 5977, 103, 1010, 103, 103, 2066, 1045, 1005, 1049, 2175, 2078, 6583, 2292, 103, 3298, 2026, 103, 103, 1005, 1005]\n",
      "[0, 0, 0, 0, 0, 3880, 0, 1036, 1036, 0, 0, 0, 0, 0, 0, 0, 0, 2017, 0, 0, 2482, 1012, 0, 0]\n",
      "[2002, 2059, 4934, 2046, 1996, 103, 1005, 1055, 103, 103, 9448, 11206, 2939, 2105, 2000, 1996, 4628, 1005, 1055, 2217, 1012]\n",
      "[0, 0, 0, 0, 0, 4062, 0, 0, 2835, 2004, 0, 0, 0, 0, 0, 0, 0, 0, 0, 0, 0]\n",
      "[12756, 2499, 2000, 2131, 6701, 2046, 1996, 2482, 2835, 1999, 2014, 3008, 103, 2455, 13631, 1012]\n",
      "[0, 0, 0, 0, 0, 0, 0, 0, 0, 0, 0, 0, 1005, 0, 0, 0]\n",
      "[12756, 103, 1012]\n",
      "[0, 3368, 0]\n",
      "[2044, 2008, 1010, 2002, 2018, 1050, 1005, 1056, 2042, 4699, 1999, 2151, 1997, 1996, 103, 1998, 22028, 12756, 2741, 1012]\n",
      "[2044, 0, 0, 0, 0, 0, 0, 0, 0, 0, 0, 0, 0, 0, 4620, 0, 0, 0, 0, 0]\n",
      "[2007, 2010, 2658, 103, 103, 2006, 1996, 4125, 1010, 4482, 2018, 1050, 1005, 1056, 2359, 2000, 2022, 22200, 3709, 2007, 103, 10198, 1997, 1037, 3336, 1012]\n",
      "[0, 0, 0, 2374, 2476, 0, 0, 0, 0, 0, 0, 0, 0, 0, 0, 0, 0, 0, 0, 0, 1996, 0, 0, 0, 0, 0]\n",
      "[4843, 2105, 2000, 2131, 1996, 22082, 2035, 1996, 2126, 2039, 3303, 2014, 2000, 21301, 1998, 103, 1012]\n",
      "[0, 0, 0, 0, 0, 0, 0, 0, 0, 0, 0, 0, 0, 0, 0, 23893, 0]\n",
      "[3061, 2067, 2013, 1996, 5259, 1010, 2016, 2357, 2000, 103, 10424, 2080, 2000, 2202, 1999, 2014, 3311, 1012]\n",
      "[0, 0, 0, 0, 0, 0, 0, 0, 0, 1998, 0, 0, 0, 0, 0, 0, 0, 0]\n",
      "[1036, 1036, 3100, 8937, 1010, 2051, 103, 2175, 1012, 1005, 1005]\n",
      "[0, 0, 0, 0, 0, 0, 2000, 0, 1012, 0, 0]\n",
      "[2043, 2002, 2318, 2000, 1059, 14014, 1010, 2016, 3184, 2014, 2132, 1012]\n",
      "[0, 0, 0, 0, 0, 0, 0, 0, 0, 0, 0, 0]\n",
      "[2004, 2016, 2253, 2000, 1996, 6411, 1998, 3856, 2032, 2039, 1010, 2016, 2071, 1050, 1005, 1056, 2393, 4531, 103, 19142, 103, 2041, 1997, 3071, 103, 103, 2183, 2000, 2156, 2651, 1010, 2002, 2001, 2087, 7568, 2055, 2108, 2007, 12643, 1998, 20563, 103, 103, 2304, 6845, 1010, 17935, 1012]\n",
      "[0, 0, 0, 0, 0, 0, 0, 0, 0, 0, 0, 2016, 0, 0, 0, 0, 0, 4531, 2009, 0, 2008, 0, 0, 0, 2002, 2001, 0, 0, 0, 0, 0, 0, 0, 0, 0, 0, 0, 0, 0, 0, 5616, 1005, 1055, 0, 0, 0, 0, 0]\n",
      "[1036, 1036, 2024, 1050, 1005, 1056, 2017, 2108, 1037, 2204, 2879, 1029, 1005, 1005]\n",
      "[1036, 1036, 0, 0, 0, 0, 0, 0, 0, 0, 0, 0, 0, 0]\n",
      "[1036, 1036, 2057, 1005, 2222, 2202, 103, 2061, 2017, 2064, 103, 2156, 2065, 5616, 3791, 2151, 2393, 1012, 1005, 1005]\n",
      "[0, 0, 0, 0, 0, 0, 2032, 0, 2017, 0, 2175, 0, 0, 0, 0, 0, 0, 0, 0, 0]\n",
      "[12756, 103, 2058, 2000, 3610, 6701, 1005, 1055, 5048, 1012]\n",
      "[0, 6260, 2058, 0, 0, 0, 0, 0, 0, 0]\n",
      "[2612, 1010, 103, 2018, 4208, 2006, 2893, 2204, 7022, 1012]\n",
      "[0, 0, 2016, 0, 0, 0, 0, 0, 0, 0]\n",
      "[2012, 103, 103, 1010, 103, 2018, 2014, 2540, 2275, 2006, 2183, 2000, 2966, 2082, 103, 3352, 1037, 103, 1012]\n",
      "[0, 2008, 2051, 0, 2016, 0, 0, 0, 0, 0, 0, 0, 0, 0, 1998, 0, 0, 3460, 0]\n",
      "[2010, 103, 8855, 2606, 1998, 2630, 2159, 2020, 3294, 5106, 1012]\n",
      "[0, 8899, 0, 0, 0, 0, 0, 0, 0, 0, 0]\n",
      "[103, 2016, 2253, 2000, 103, 103, 1998, 3856, 2032, 2039, 1010, 2016, 2071, 103, 103, 103, 2393, 4531, 2009, 103, 2008, 2041, 1997, 3071, 2002, 103, 2183, 2000, 2156, 2651, 1010, 103, 2001, 2087, 7568, 2055, 2108, 103, 12643, 1998, 5616, 1005, 1055, 2304, 6845, 1010, 17935, 1012]\n",
      "[2004, 0, 0, 0, 1996, 6411, 0, 0, 0, 0, 0, 0, 0, 1050, 1005, 1056, 0, 0, 0, 19142, 0, 0, 0, 0, 0, 2001, 0, 0, 0, 0, 0, 2002, 0, 0, 0, 0, 0, 2007, 0, 0, 0, 0, 0, 0, 0, 0, 0, 0]\n",
      "[2011, 103, 2051, 2016, 2288, 2067, 2006, 2650, 2007, 2014, 7022, 1010, 2016, 2018, 4704, 2151, 3246, 1997, 2966, 2082, 1012]\n",
      "[0, 1996, 0, 0, 0, 0, 0, 0, 0, 0, 0, 0, 0, 0, 0, 0, 0, 0, 0, 2082, 0]\n",
      "[4843, 2105, 2000, 2131, 1996, 22082, 2035, 1996, 2126, 2039, 103, 2014, 2000, 21301, 1998, 23893, 1012]\n",
      "[0, 0, 0, 0, 0, 0, 0, 0, 0, 0, 3303, 0, 0, 0, 0, 0, 0]\n",
      "[2007, 1037, 103, 1010, 103, 3706, 2046, 103, 4377, 1998, 4934, 103, 2058, 2014, 6700, 1012]\n",
      "[0, 0, 6682, 0, 2016, 0, 0, 1996, 0, 0, 0, 2009, 0, 0, 6700, 0]\n",
      "[4843, 2105, 2000, 2131, 1996, 22082, 2035, 1996, 2126, 2039, 3303, 103, 2000, 21301, 16989, 23893, 1012]\n",
      "[0, 0, 0, 0, 0, 0, 0, 0, 0, 0, 0, 2014, 0, 0, 1998, 0, 0]\n",
      "[2016, 2069, 2018, 1037, 2117, 2077, 2014, 103, 9478, 2094, 103, 2007, 103, 1010, 1998, 103, 6587, 2567, 1010, 9448, 1012]\n",
      "[0, 0, 0, 1037, 0, 0, 0, 2388, 0, 0, 1999, 0, 5977, 0, 0, 2014, 0, 0, 0, 0, 0]\n",
      "[2016, 2404, 2006, 103, 21944, 1011, 1037, 2152, 2082, 7665, 103, 2013, 2014, 103, 103, 1010, 2030, 1036, 1036, 103, 1005, 1005, 1010, 103, 2016, 2411, 2170, 103, 1012]\n",
      "[0, 0, 0, 2014, 0, 0, 0, 0, 0, 0, 5592, 0, 0, 4470, 12643, 0, 0, 0, 0, 10792, 0, 0, 0, 2004, 0, 0, 0, 2032, 0]\n"
     ]
    },
    {
     "name": "stderr",
     "output_type": "stream",
     "text": [
      "\n"
     ]
    },
    {
     "ename": "RuntimeError",
     "evalue": "expand(CPUBoolType{[32, 1, 1, 64, 768]}, size=[-1, 64, 64, -1]): the number of sizes provided (4) must be greater or equal to the number of dimensions in the tensor (5)",
     "output_type": "error",
     "traceback": [
      "\u001b[1;31m---------------------------------------------------------------------------\u001b[0m",
      "\u001b[1;31mRuntimeError\u001b[0m                              Traceback (most recent call last)",
      "Cell \u001b[1;32mIn[219], line 17\u001b[0m\n\u001b[0;32m     14\u001b[0m epochs \u001b[38;5;241m=\u001b[39m \u001b[38;5;241m20\u001b[39m\n\u001b[0;32m     16\u001b[0m \u001b[38;5;28;01mfor\u001b[39;00m epoch \u001b[38;5;129;01min\u001b[39;00m \u001b[38;5;28mrange\u001b[39m(epochs):\n\u001b[1;32m---> 17\u001b[0m   bert_trainer\u001b[38;5;241m.\u001b[39mtraining(epoch)\n",
      "Cell \u001b[1;32mIn[218], line 24\u001b[0m, in \u001b[0;36mTrainBERT.training\u001b[1;34m(self, epoch)\u001b[0m\n\u001b[0;32m     23\u001b[0m \u001b[38;5;28;01mdef\u001b[39;00m \u001b[38;5;21mtraining\u001b[39m(\u001b[38;5;28mself\u001b[39m, epoch):\n\u001b[1;32m---> 24\u001b[0m     \u001b[38;5;28mself\u001b[39m\u001b[38;5;241m.\u001b[39miteration(epoch, \u001b[38;5;28mself\u001b[39m\u001b[38;5;241m.\u001b[39mtraining_data)\n",
      "Cell \u001b[1;32mIn[218], line 49\u001b[0m, in \u001b[0;36mTrainBERT.iteration\u001b[1;34m(self, epoch, data_loader, train)\u001b[0m\n\u001b[0;32m     46\u001b[0m data \u001b[38;5;241m=\u001b[39m {key: value\u001b[38;5;241m.\u001b[39mto(\u001b[38;5;28mself\u001b[39m\u001b[38;5;241m.\u001b[39mdevice) \u001b[38;5;28;01mfor\u001b[39;00m key, value \u001b[38;5;129;01min\u001b[39;00m data\u001b[38;5;241m.\u001b[39mitems()}\n\u001b[0;32m     48\u001b[0m \u001b[38;5;66;03m# 1. forward the next_sentence_prediction and masked_lm model\u001b[39;00m\n\u001b[1;32m---> 49\u001b[0m next_sent_output, mask_lm_output \u001b[38;5;241m=\u001b[39m \u001b[38;5;28mself\u001b[39m\u001b[38;5;241m.\u001b[39mmodel\u001b[38;5;241m.\u001b[39mforward(data[\u001b[38;5;124m\"\u001b[39m\u001b[38;5;124minput\u001b[39m\u001b[38;5;124m\"\u001b[39m], data[\u001b[38;5;124m\"\u001b[39m\u001b[38;5;124msegment\u001b[39m\u001b[38;5;124m\"\u001b[39m])\n\u001b[0;32m     51\u001b[0m \u001b[38;5;66;03m# 2-1. NLL(negative log likelihood) loss of is_next classification result\u001b[39;00m\n\u001b[0;32m     52\u001b[0m next_loss \u001b[38;5;241m=\u001b[39m \u001b[38;5;28mself\u001b[39m\u001b[38;5;241m.\u001b[39mcriterion(next_sent_output, data[\u001b[38;5;124m\"\u001b[39m\u001b[38;5;124mis_next\u001b[39m\u001b[38;5;124m\"\u001b[39m])\n",
      "Cell \u001b[1;32mIn[217], line 19\u001b[0m, in \u001b[0;36mBERT.forward\u001b[1;34m(self, x, segment_label)\u001b[0m\n\u001b[0;32m     18\u001b[0m \u001b[38;5;28;01mdef\u001b[39;00m \u001b[38;5;21mforward\u001b[39m(\u001b[38;5;28mself\u001b[39m, x, segment_label):\n\u001b[1;32m---> 19\u001b[0m     x \u001b[38;5;241m=\u001b[39m \u001b[38;5;28mself\u001b[39m\u001b[38;5;241m.\u001b[39mbase_model(x, segment_label)\n\u001b[0;32m     20\u001b[0m     \u001b[38;5;28;01mreturn\u001b[39;00m \u001b[38;5;28mself\u001b[39m\u001b[38;5;241m.\u001b[39mnext_sentence(x), \u001b[38;5;28mself\u001b[39m\u001b[38;5;241m.\u001b[39mmasked_pred(x)\n",
      "File \u001b[1;32m~\\AppData\\Roaming\\Python\\Python311\\site-packages\\torch\\nn\\modules\\module.py:1518\u001b[0m, in \u001b[0;36mModule._wrapped_call_impl\u001b[1;34m(self, *args, **kwargs)\u001b[0m\n\u001b[0;32m   1516\u001b[0m     \u001b[38;5;28;01mreturn\u001b[39;00m \u001b[38;5;28mself\u001b[39m\u001b[38;5;241m.\u001b[39m_compiled_call_impl(\u001b[38;5;241m*\u001b[39margs, \u001b[38;5;241m*\u001b[39m\u001b[38;5;241m*\u001b[39mkwargs)  \u001b[38;5;66;03m# type: ignore[misc]\u001b[39;00m\n\u001b[0;32m   1517\u001b[0m \u001b[38;5;28;01melse\u001b[39;00m:\n\u001b[1;32m-> 1518\u001b[0m     \u001b[38;5;28;01mreturn\u001b[39;00m \u001b[38;5;28mself\u001b[39m\u001b[38;5;241m.\u001b[39m_call_impl(\u001b[38;5;241m*\u001b[39margs, \u001b[38;5;241m*\u001b[39m\u001b[38;5;241m*\u001b[39mkwargs)\n",
      "File \u001b[1;32m~\\AppData\\Roaming\\Python\\Python311\\site-packages\\torch\\nn\\modules\\module.py:1527\u001b[0m, in \u001b[0;36mModule._call_impl\u001b[1;34m(self, *args, **kwargs)\u001b[0m\n\u001b[0;32m   1522\u001b[0m \u001b[38;5;66;03m# If we don't have any hooks, we want to skip the rest of the logic in\u001b[39;00m\n\u001b[0;32m   1523\u001b[0m \u001b[38;5;66;03m# this function, and just call forward.\u001b[39;00m\n\u001b[0;32m   1524\u001b[0m \u001b[38;5;28;01mif\u001b[39;00m \u001b[38;5;129;01mnot\u001b[39;00m (\u001b[38;5;28mself\u001b[39m\u001b[38;5;241m.\u001b[39m_backward_hooks \u001b[38;5;129;01mor\u001b[39;00m \u001b[38;5;28mself\u001b[39m\u001b[38;5;241m.\u001b[39m_backward_pre_hooks \u001b[38;5;129;01mor\u001b[39;00m \u001b[38;5;28mself\u001b[39m\u001b[38;5;241m.\u001b[39m_forward_hooks \u001b[38;5;129;01mor\u001b[39;00m \u001b[38;5;28mself\u001b[39m\u001b[38;5;241m.\u001b[39m_forward_pre_hooks\n\u001b[0;32m   1525\u001b[0m         \u001b[38;5;129;01mor\u001b[39;00m _global_backward_pre_hooks \u001b[38;5;129;01mor\u001b[39;00m _global_backward_hooks\n\u001b[0;32m   1526\u001b[0m         \u001b[38;5;129;01mor\u001b[39;00m _global_forward_hooks \u001b[38;5;129;01mor\u001b[39;00m _global_forward_pre_hooks):\n\u001b[1;32m-> 1527\u001b[0m     \u001b[38;5;28;01mreturn\u001b[39;00m forward_call(\u001b[38;5;241m*\u001b[39margs, \u001b[38;5;241m*\u001b[39m\u001b[38;5;241m*\u001b[39mkwargs)\n\u001b[0;32m   1529\u001b[0m \u001b[38;5;28;01mtry\u001b[39;00m:\n\u001b[0;32m   1530\u001b[0m     result \u001b[38;5;241m=\u001b[39m \u001b[38;5;28;01mNone\u001b[39;00m\n",
      "Cell \u001b[1;32mIn[213], line 21\u001b[0m, in \u001b[0;36mModel.forward\u001b[1;34m(self, x, segment_info)\u001b[0m\n\u001b[0;32m     19\u001b[0m x \u001b[38;5;241m=\u001b[39m \u001b[38;5;28mself\u001b[39m\u001b[38;5;241m.\u001b[39membedding(x, segment_info) \u001b[38;5;66;03m# copied: what is segment_info? to be changed\u001b[39;00m\n\u001b[0;32m     20\u001b[0m \u001b[38;5;66;03m# mask padded input, output dim: (batch_size, 1, seq_len, seq_len)\u001b[39;00m\n\u001b[1;32m---> 21\u001b[0m mask \u001b[38;5;241m=\u001b[39m (x \u001b[38;5;241m>\u001b[39m \u001b[38;5;241m0\u001b[39m)\u001b[38;5;241m.\u001b[39munsqueeze(\u001b[38;5;241m1\u001b[39m)\u001b[38;5;241m.\u001b[39munsqueeze(\u001b[38;5;241m2\u001b[39m)\u001b[38;5;241m.\u001b[39mexpand(\u001b[38;5;241m-\u001b[39m\u001b[38;5;241m1\u001b[39m, x\u001b[38;5;241m.\u001b[39msize(\u001b[38;5;241m1\u001b[39m), x\u001b[38;5;241m.\u001b[39msize(\u001b[38;5;241m1\u001b[39m), \u001b[38;5;241m-\u001b[39m\u001b[38;5;241m1\u001b[39m)\n\u001b[0;32m     22\u001b[0m \u001b[38;5;66;03m# run trough encoders\u001b[39;00m\n\u001b[0;32m     23\u001b[0m \u001b[38;5;28;01mfor\u001b[39;00m encoder \u001b[38;5;129;01min\u001b[39;00m \u001b[38;5;28mself\u001b[39m\u001b[38;5;241m.\u001b[39mencoders:\n",
      "\u001b[1;31mRuntimeError\u001b[0m: expand(CPUBoolType{[32, 1, 1, 64, 768]}, size=[-1, 64, 64, -1]): the number of sizes provided (4) must be greater or equal to the number of dimensions in the tensor (5)"
     ]
    }
   ],
   "source": [
    "'''test run'''\n",
    "train_data = Bookcorpus(tokenizer, n_rows = 100)\n",
    "\n",
    "train_loader = DataLoader(\n",
    "   train_data, batch_size=32, shuffle=True, pin_memory=True)\n",
    "# def __init__(self, vocab_size=VOCAB_SIZE, model_dimension=EMBED_SIZE, number_layers=12, number_heads=12):\n",
    "bert_model = Model(\n",
    "  vocab_size=VOCAB_SIZE,\n",
    "  model_dimension=EMBED_SIZE\n",
    ")\n",
    "\n",
    "bert_lm = BERT(bert_model, len(tokenizer.vocab))\n",
    "bert_trainer = TrainBERT(bert_lm, train_loader, device='cpu')\n",
    "epochs = 20\n",
    "\n",
    "for epoch in range(epochs):\n",
    "  bert_trainer.training(epoch)"
   ]
  },
  {
   "cell_type": "markdown",
   "id": "5ada6b40",
   "metadata": {},
   "source": [
    "## Functions for report"
   ]
  },
  {
   "cell_type": "code",
   "execution_count": 41,
   "id": "82ee2f56",
   "metadata": {},
   "outputs": [
    {
     "data": {
      "text/plain": [
       "'class BertTokenizer():\\n    def __init__(self, task_type=\"pretrain\"):\\n        if not task_type in [\"pretrain\", \"text_classification_multi\"]:\\n            raise ValueError(\"task not implemented\")\\n        pass\\n    \\n    def __call__()'"
      ]
     },
     "execution_count": 41,
     "metadata": {},
     "output_type": "execute_result"
    }
   ],
   "source": [
    "\"\"\"class BertTokenizer():\n",
    "    def __init__(self, task_type=\"pretrain\"):\n",
    "        if not task_type in [\"pretrain\", \"text_classification_multi\"]:\n",
    "            raise ValueError(\"task not implemented\")\n",
    "        pass\n",
    "    \n",
    "    def __call__()\"\"\"\n",
    "# i noticed we dont need any callable class to do transformation on the datasets since everything is handeled by our dataloaders\n",
    "# ie we dont need rescaling etc.\n",
    "# maybe ask supervisor if we need to save back the tokenized text or if it is okay to do it on the fly and leave the load_data transformation parameter at None"
   ]
  },
  {
   "cell_type": "code",
   "execution_count": 42,
   "id": "7bf4a2dc",
   "metadata": {
    "scrolled": true
   },
   "outputs": [],
   "source": [
    "#def __init__(self, tokenizer, seq_len=64, split=\"train\", n_rows=None):\n",
    "\n",
    "def load_data(dataset:str, transformation=None, n_train:int=None, n_test:int=None): # transformation callable\n",
    "    \n",
    "    if dataset == \"bookcorpus\":\n",
    "        train = Bookcorpus(\n",
    "            tokenizer=transformation,\n",
    "            seq_len=SEQ_LEN,\n",
    "            split=\"train\",\n",
    "            n_rows=n_train\n",
    "        )\n",
    "        return train, None\n",
    "    \n",
    "    elif dataset == \"jigsaw_toxicity_pred\":\n",
    "        train = ToxicComment(\n",
    "            tokenizer=transformation,\n",
    "            seq_len=SEQ_LEN,\n",
    "            split=\"train\",\n",
    "            n_rows=n_train\n",
    "        )\n",
    "        \n",
    "        test = ToxicComment(\n",
    "            tokenizer=transformation,\n",
    "            seq_len=SEQ_LEN,\n",
    "            split=\"test\",\n",
    "            n_rows=n_test\n",
    "        )\n",
    "        return train, test\n",
    "    \n",
    "    else:\n",
    "        raise NotImplementedError(\"Dataset not implemented\")"
   ]
  },
  {
   "cell_type": "code",
   "execution_count": 43,
   "id": "750c0387",
   "metadata": {},
   "outputs": [
    {
     "name": "stderr",
     "output_type": "stream",
     "text": [
      "Found cached dataset jigsaw_toxicity_pred (C:/Users/Johannes/.cache/huggingface/datasets/jigsaw_toxicity_pred/default-ebae0308d0d3f840/1.1.0/9cf096ac4341c35839bc8a9f6a19d93e18e5ad3d84cf05f690d2bc6f7384af85)\n",
      "Found cached dataset jigsaw_toxicity_pred (C:/Users/Johannes/.cache/huggingface/datasets/jigsaw_toxicity_pred/default-ebae0308d0d3f840/1.1.0/9cf096ac4341c35839bc8a9f6a19d93e18e5ad3d84cf05f690d2bc6f7384af85)\n"
     ]
    }
   ],
   "source": [
    "tokenizer = BertTokenizer.from_pretrained(\"bert-base-uncased\")\n",
    "train, test = load_data(\"jigsaw_toxicity_pred\", transformation=tokenizer, n_train=1000, n_test=100)"
   ]
  },
  {
   "cell_type": "code",
   "execution_count": 44,
   "id": "a85a9ba2",
   "metadata": {},
   "outputs": [
    {
     "data": {
      "text/plain": [
       "{'toxic': 0,\n",
       " 'severe_toxic': 0,\n",
       " 'obscene': 0,\n",
       " 'threat': 0,\n",
       " 'insult': 0,\n",
       " 'identity_hate': 0,\n",
       " 'bert_input': tensor([  101,  7526,  2339,  1996, 10086,  2015,  2081,  2104,  2026,  5310,\n",
       "         18442, 13076, 12392,  2050,  5470,  2020, 16407,  1029,  2027,  4694,\n",
       "          1005,  1056,  3158,  9305, 22556,  1010,  2074,  8503,  2006,  2070,\n",
       "          3806,  2044,  1045,  5444,  2012,  2047,  2259, 14421,  6904,  2278,\n",
       "          1012,  1998,  3531,  2123,  1005,  1056,  6366,  1996, 23561,  2013,\n",
       "          1996,  2831,  3931,  2144,  1045,  1005,  1049,  3394,  2085,  1012,\n",
       "          6486,  1012, 16327,   102]),\n",
       " 'bert_label': tensor([0., 0., 0., 0., 0., 0., 0., 0., 0., 0., 0., 0., 0., 0., 0., 0., 0., 0., 0., 0., 0., 0., 0., 0.,\n",
       "         0., 0., 0., 0., 0., 0., 0., 0., 0., 0., 0., 0., 0., 0., 0., 0., 0., 0., 0., 0., 0., 0., 0., 0.,\n",
       "         0., 0., 0., 0., 0., 0., 0., 0., 0., 0., 0., 0., 0., 0., 0., 0.]),\n",
       " 'segment_label': tensor([1., 1., 1., 1., 1., 1., 1., 1., 1., 1., 1., 1., 1., 1., 1., 1., 1., 1.,\n",
       "         1., 1., 1., 1., 1., 1., 1., 1., 1., 1., 1., 1., 1., 1., 1., 1., 1., 1.,\n",
       "         1., 1., 1., 1., 1., 1., 1., 1., 1., 1., 1., 1., 1., 1., 1., 1., 1., 1.,\n",
       "         1., 1., 1., 1., 1., 1., 1., 1., 1., 1.])}"
      ]
     },
     "execution_count": 44,
     "metadata": {},
     "output_type": "execute_result"
    }
   ],
   "source": [
    "next(iter(train))"
   ]
  },
  {
   "cell_type": "code",
   "execution_count": 45,
   "id": "c46fb18c",
   "metadata": {
    "scrolled": true
   },
   "outputs": [
    {
     "data": {
      "text/plain": [
       "{'toxic': 0,\n",
       " 'severe_toxic': 0,\n",
       " 'obscene': 0,\n",
       " 'threat': 0,\n",
       " 'insult': 0,\n",
       " 'identity_hate': 0,\n",
       " 'bert_input': tensor([ 101, 4067, 2017, 2005, 4824, 1012, 1045, 2228, 2200, 3811, 1997, 2017,\n",
       "         1998, 2052, 2025, 7065, 8743, 2302, 6594, 1012,  102,    0,    0,    0,\n",
       "            0,    0,    0,    0,    0,    0,    0,    0,    0,    0,    0,    0,\n",
       "            0,    0,    0,    0,    0,    0,    0,    0,    0,    0,    0,    0,\n",
       "            0,    0,    0,    0,    0,    0,    0,    0,    0,    0,    0,    0,\n",
       "            0,    0,    0,    0]),\n",
       " 'bert_label': tensor([0., 0., 0., 0., 0., 0., 0., 0., 0., 0., 0., 0., 0., 0., 0., 0., 0., 0., 0., 0., 0., 0., 0., 0.,\n",
       "         0., 0., 0., 0., 0., 0., 0., 0., 0., 0., 0., 0., 0., 0., 0., 0., 0., 0., 0., 0., 0., 0., 0., 0.,\n",
       "         0., 0., 0., 0., 0., 0., 0., 0., 0., 0., 0., 0., 0., 0., 0., 0.]),\n",
       " 'segment_label': tensor([1., 1., 1., 1., 1., 1., 1., 1., 1., 1., 1., 1., 1., 1., 1., 1., 1., 1.,\n",
       "         1., 1., 1., 1., 1., 1., 1., 1., 1., 1., 1., 1., 1., 1., 1., 1., 1., 1.,\n",
       "         1., 1., 1., 1., 1., 1., 1., 1., 1., 1., 1., 1., 1., 1., 1., 1., 1., 1.,\n",
       "         1., 1., 1., 1., 1., 1., 1., 1., 1., 1.])}"
      ]
     },
     "execution_count": 45,
     "metadata": {},
     "output_type": "execute_result"
    }
   ],
   "source": [
    "next(iter(test))"
   ]
  },
  {
   "cell_type": "code",
   "execution_count": 46,
   "id": "ac722bb0",
   "metadata": {},
   "outputs": [],
   "source": [
    "tokenizer = BertTokenizer.from_pretrained(\"bert-base-uncased\")\n",
    "train, test = load_data(\"bookcorpus\", transformation=tokenizer, n_train=1000, n_test=100)"
   ]
  },
  {
   "cell_type": "code",
   "execution_count": 47,
   "id": "2762923b",
   "metadata": {
    "scrolled": true
   },
   "outputs": [
    {
     "data": {
      "text/plain": [
       "True"
      ]
     },
     "execution_count": 47,
     "metadata": {},
     "output_type": "execute_result"
    }
   ],
   "source": [
    "test is None"
   ]
  },
  {
   "cell_type": "code",
   "execution_count": 48,
   "id": "7c1552ca",
   "metadata": {},
   "outputs": [
    {
     "ename": "SyntaxError",
     "evalue": "incomplete input (2645215428.py, line 1)",
     "output_type": "error",
     "traceback": [
      "\u001b[1;36m  Cell \u001b[1;32mIn[48], line 1\u001b[1;36m\u001b[0m\n\u001b[1;33m    def show(x, outfile:str=None): # can have more args\u001b[0m\n\u001b[1;37m                                                       ^\u001b[0m\n\u001b[1;31mSyntaxError\u001b[0m\u001b[1;31m:\u001b[0m incomplete input\n"
     ]
    }
   ],
   "source": [
    "def show(x, outfile:str=None): # can have more args"
   ]
  },
  {
   "cell_type": "code",
   "execution_count": null,
   "id": "432c0612",
   "metadata": {},
   "outputs": [],
   "source": []
  }
 ],
 "metadata": {
  "kernelspec": {
   "display_name": "Python 3 (ipykernel)",
   "language": "python",
   "name": "python3"
  },
  "language_info": {
   "codemirror_mode": {
    "name": "ipython",
    "version": 3
   },
   "file_extension": ".py",
   "mimetype": "text/x-python",
   "name": "python",
   "nbconvert_exporter": "python",
   "pygments_lexer": "ipython3",
   "version": "3.11.5"
  }
 },
 "nbformat": 4,
 "nbformat_minor": 5
}
