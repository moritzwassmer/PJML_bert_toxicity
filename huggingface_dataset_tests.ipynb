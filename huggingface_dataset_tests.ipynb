{
 "cells": [
  {
   "cell_type": "markdown",
   "id": "dde97783",
   "metadata": {},
   "source": [
    "# TODO\n",
    "* Ensure that during pre training, both sentences fit into the model at the same time -> DONE but not teted\n",
    "* think about visualizations for text, preprocessing text, etc.\n",
    "* implement interfaces of the task sheet\n",
    "* cleaner code"
   ]
  },
  {
   "cell_type": "code",
   "execution_count": 1,
   "id": "802591b8",
   "metadata": {},
   "outputs": [],
   "source": [
    "#pip install datasets\n",
    "import datasets"
   ]
  },
  {
   "cell_type": "code",
   "execution_count": 2,
   "id": "cb5848b2",
   "metadata": {},
   "outputs": [],
   "source": [
    "SEQ_LEN = 64 # maximum sequence length\n",
    "VOCAB_SIZE = 30522  # = len(tokenizer.vocab)\n",
    "N_SEGMENTS = 3 # number of segmentation labels\n",
    "EMBED_SIZE = 768 # size of embedding vector\n",
    "DROPOUT = 0.1 # dropout chance"
   ]
  },
  {
   "cell_type": "markdown",
   "id": "d464fe5e",
   "metadata": {},
   "source": [
    "## Pretraining"
   ]
  },
  {
   "cell_type": "markdown",
   "id": "8dc737c1",
   "metadata": {},
   "source": [
    "### bookcorpus"
   ]
  },
  {
   "cell_type": "code",
   "execution_count": 3,
   "id": "5b594b1d",
   "metadata": {
    "scrolled": false
   },
   "outputs": [
    {
     "name": "stderr",
     "output_type": "stream",
     "text": [
      "Found cached dataset bookcorpus (C:/Users/Johannes/.cache/huggingface/datasets/bookcorpus/plain_text/1.0.0/eddee3cae1cc263a431aa98207d4d27fd8a73b0a9742f692af0e6c65afa4d75f)\n"
     ]
    },
    {
     "data": {
      "application/vnd.jupyter.widget-view+json": {
       "model_id": "6261cb8226b249289d6020ed7bed5eff",
       "version_major": 2,
       "version_minor": 0
      },
      "text/plain": [
       "  0%|          | 0/1 [00:00<?, ?it/s]"
      ]
     },
     "metadata": {},
     "output_type": "display_data"
    },
    {
     "name": "stdout",
     "output_type": "stream",
     "text": [
      "DatasetDict({\n",
      "    train: Dataset({\n",
      "        features: ['text'],\n",
      "        num_rows: 74004228\n",
      "    })\n",
      "})\n"
     ]
    }
   ],
   "source": [
    "# Download + load data from cache or online AUTOMATICALLY\n",
    "# https://huggingface.co/docs/datasets/loading#slice-splits\n",
    "\n",
    "\n",
    "from datasets import load_dataset\n",
    "\n",
    "dataset = load_dataset(\"bookcorpus\") # alternative, less size datasets.load_dataset(\"bookcorpus\", split=\"train[:10%]\")\n",
    "# split=\"train[10:20]\")\n",
    "# saved here on windows C:\\Users\\morit\\.cache\\huggingface\n",
    "\n",
    "print(dataset)"
   ]
  },
  {
   "cell_type": "markdown",
   "id": "f3f56493",
   "metadata": {},
   "source": [
    "#### Saving huggingface Dataset on disk"
   ]
  },
  {
   "cell_type": "code",
   "execution_count": 7,
   "id": "30a6ecc6",
   "metadata": {},
   "outputs": [],
   "source": [
    "# manual save to disk\n",
    "\n",
    "#folder_path = r\"C:\\Users\\morit\\OneDrive\\UNI\\Master\\WS23\\PML\\repo\\bert_from_scratch.toxic_comment\\datasets\\pretraining\"\n",
    "#full_path = folder_path+r\"\\bookcorpus\"\n",
    "\n",
    "#dataset.save_to_disk(full_path)"
   ]
  },
  {
   "cell_type": "markdown",
   "id": "800cfd29",
   "metadata": {},
   "source": [
    "#### Loading hf dataset from disk"
   ]
  },
  {
   "cell_type": "code",
   "execution_count": 8,
   "id": "6a77b037",
   "metadata": {
    "scrolled": true
   },
   "outputs": [],
   "source": [
    "# manual load from disk\n",
    "\n",
    "#dataset = datasets.load_dataset(full_path)"
   ]
  },
  {
   "cell_type": "markdown",
   "id": "f4604f83",
   "metadata": {},
   "source": [
    "#### slicing hf dataset"
   ]
  },
  {
   "cell_type": "code",
   "execution_count": 9,
   "id": "c14821a2",
   "metadata": {
    "scrolled": true
   },
   "outputs": [
    {
     "data": {
      "text/plain": [
       "'her parents rattled along to each other as they made their way through the tree-lined suburbs where megan had grown up .'"
      ]
     },
     "execution_count": 9,
     "metadata": {},
     "output_type": "execute_result"
    }
   ],
   "source": [
    "dataset[\"train\"][66][\"text\"]"
   ]
  },
  {
   "cell_type": "markdown",
   "id": "7a0c4a55",
   "metadata": {},
   "source": [
    "#### Standard dataloader - not sufficient we need tokenized output -> implement own dataset classes"
   ]
  },
  {
   "cell_type": "code",
   "execution_count": 10,
   "id": "15cb2c61",
   "metadata": {},
   "outputs": [
    {
     "data": {
      "text/plain": [
       "{'text': ['usually , he would be tearing around the living room , playing with his toys .',\n",
       "  'but just one look at a minion sent him practically catatonic .']}"
      ]
     },
     "execution_count": 10,
     "metadata": {},
     "output_type": "execute_result"
    }
   ],
   "source": [
    "from torch.utils.data import DataLoader\n",
    "dataloader = DataLoader(dataset[\"train\"], batch_size=2)\n",
    "batch = next(iter(dataloader))\n",
    "batch"
   ]
  },
  {
   "cell_type": "markdown",
   "id": "c5ebacda",
   "metadata": {},
   "source": [
    "#### Tokenizer - use pretrained, at least for prototype"
   ]
  },
  {
   "cell_type": "code",
   "execution_count": 11,
   "id": "012af1d1",
   "metadata": {},
   "outputs": [],
   "source": [
    "# https://huggingface.co/docs/transformers/preprocessing\n",
    "# https://huggingface.co/docs/transformers/main_classes/tokenizer\n",
    "from transformers import BertTokenizer\n",
    "\n",
    "tokenizer = BertTokenizer.from_pretrained(\"bert-base-uncased\")  # Choose an appropriate tokenizer"
   ]
  },
  {
   "cell_type": "code",
   "execution_count": 12,
   "id": "766ae484",
   "metadata": {},
   "outputs": [],
   "source": [
    "#tokenizer.model_max_length = SEQ_LEN # might not be correct in case of pretraining where we add CLS at the end, check that"
   ]
  },
  {
   "cell_type": "markdown",
   "id": "0827bc7f",
   "metadata": {},
   "source": [
    "#### Tokenizer parameters"
   ]
  },
  {
   "cell_type": "code",
   "execution_count": 13,
   "id": "7cc5fe66",
   "metadata": {
    "scrolled": true
   },
   "outputs": [
    {
     "data": {
      "text/plain": [
       "'right'"
      ]
     },
     "execution_count": 13,
     "metadata": {},
     "output_type": "execute_result"
    }
   ],
   "source": [
    "tokenizer.truncation_side "
   ]
  },
  {
   "cell_type": "code",
   "execution_count": 14,
   "id": "d5adf4f0",
   "metadata": {},
   "outputs": [
    {
     "data": {
      "text/plain": [
       "512"
      ]
     },
     "execution_count": 14,
     "metadata": {},
     "output_type": "execute_result"
    }
   ],
   "source": [
    "tokenizer.model_max_length # we might need to fixate this"
   ]
  },
  {
   "cell_type": "code",
   "execution_count": 15,
   "id": "b2db1cfc",
   "metadata": {},
   "outputs": [
    {
     "data": {
      "text/plain": [
       "'[MASK]'"
      ]
     },
     "execution_count": 15,
     "metadata": {},
     "output_type": "execute_result"
    }
   ],
   "source": [
    "tokenizer.mask_token"
   ]
  },
  {
   "cell_type": "code",
   "execution_count": 16,
   "id": "a09c4ac6",
   "metadata": {},
   "outputs": [
    {
     "data": {
      "text/plain": [
       "103"
      ]
     },
     "execution_count": 16,
     "metadata": {},
     "output_type": "execute_result"
    }
   ],
   "source": [
    "tokenizer.vocab['[MASK]']"
   ]
  },
  {
   "cell_type": "markdown",
   "id": "5a719881",
   "metadata": {},
   "source": [
    "#### Tokenizer example usage"
   ]
  },
  {
   "cell_type": "code",
   "execution_count": 17,
   "id": "6afd8af0",
   "metadata": {
    "scrolled": true
   },
   "outputs": [
    {
     "data": {
      "text/plain": [
       "{'input_ids': [101, 7632, 1045, 2572, 28461, 1010, 2040, 2024, 2017, 1029, 102], 'token_type_ids': [0, 0, 0, 0, 0, 0, 0, 0, 0, 0, 0], 'attention_mask': [1, 1, 1, 1, 1, 1, 1, 1, 1, 1, 1]}"
      ]
     },
     "execution_count": 17,
     "metadata": {},
     "output_type": "execute_result"
    }
   ],
   "source": [
    "text = \"hi i am moritz, who are you ?\"#[\"hi i am moritz\", \"no you are not moritz, you are kevin\"]\n",
    "encoded_input = tokenizer(text)#,padding=True, truncation=True)\n",
    "# , return_tensors='pt') use this for pt tensors\n",
    "encoded_input"
   ]
  },
  {
   "cell_type": "code",
   "execution_count": 18,
   "id": "432fff51",
   "metadata": {},
   "outputs": [
    {
     "data": {
      "text/plain": [
       "[101, 7632, 1045, 2572, 28461, 1010, 2040, 2024, 2017, 1029, 102]"
      ]
     },
     "execution_count": 18,
     "metadata": {},
     "output_type": "execute_result"
    }
   ],
   "source": [
    "encoded_input[\"input_ids\"]"
   ]
  },
  {
   "cell_type": "code",
   "execution_count": 19,
   "id": "51f874a5",
   "metadata": {},
   "outputs": [
    {
     "data": {
      "text/plain": [
       "'[CLS] hi i am moritz, who are you? [SEP]'"
      ]
     },
     "execution_count": 19,
     "metadata": {},
     "output_type": "execute_result"
    }
   ],
   "source": [
    "tokenizer.decode(encoded_input[\"input_ids\"])"
   ]
  },
  {
   "cell_type": "markdown",
   "id": "711b4d7e",
   "metadata": {},
   "source": [
    "#### Custom Dataset"
   ]
  },
  {
   "cell_type": "code",
   "execution_count": 20,
   "id": "20979eeb",
   "metadata": {},
   "outputs": [
    {
     "data": {
      "text/plain": [
       "True"
      ]
     },
     "execution_count": 20,
     "metadata": {},
     "output_type": "execute_result"
    }
   ],
   "source": [
    "n_rows = None\n",
    "n_rows is None"
   ]
  },
  {
   "cell_type": "code",
   "execution_count": 21,
   "id": "f8564c64",
   "metadata": {},
   "outputs": [],
   "source": [
    "from torch.utils.data import Dataset, DataLoader\n",
    "import random\n",
    "import itertools\n",
    "import torch\n",
    "\n",
    "class Bookcorpus(Dataset): # TODO rewrite \n",
    "    \n",
    "    def __init__(self, tokenizer, seq_len=64, split=\"train\", n_rows=None):\n",
    "        \"\"\"\n",
    "        n_rows == None means take the whole dataset\n",
    "        \"\"\"\n",
    "     \n",
    "        if not split in [\"train\"]:\n",
    "            raise ValueError(\"For Bookcorpus there is only a train split\")\n",
    "            \n",
    "        self.n_rows = n_rows # is only inititialized if __len__() is called\n",
    "        self.tokenizer = tokenizer \n",
    "        self.seq_len = seq_len\n",
    "        self.split = split\n",
    "        self.dataset = None # only loaded id needed\n",
    "    \n",
    "    # apply lazy loading\n",
    "    def load_memory(self):\n",
    "        if self.n_rows is not None:\n",
    "            self.dataset = load_dataset(\"bookcorpus\", split=self.split+\"[0:\"+str(self.n_rows)+\"]\") # [split]\n",
    "        else:\n",
    "            self.dataset = load_dataset(\"bookcorpus\") # [split]\n",
    "\n",
    "    def __len__(self):\n",
    "        if self.dataset is None:\n",
    "            self.load_memory() # only loaded if required\n",
    "        return len(self.dataset)\n",
    "\n",
    "    def __getitem__(self, item): \n",
    "        if self.dataset is None:\n",
    "            self.load_data() # only loaded if required\n",
    "        \n",
    "        # Create a random pair of sentences, if subseq is true if they are subsequent\n",
    "        s1, s2, subseq = self.get_sentence_pair(item)\n",
    "        \n",
    "        # Replace 15% of the words in each line with masks/random words/the word itself\n",
    "        s1_random, s1_label = self.random_masking(s1)\n",
    "        s2_random, s2_label = self.random_masking(s2)\n",
    "        \n",
    "        # Step 3: Adding CLS and SEP tokens to the start and end of sentences # copied \n",
    "         # Adding PAD token for labels\n",
    "        cls = [self.tokenizer.vocab['[CLS]']]\n",
    "        sep = [self.tokenizer.vocab['[SEP]']] \n",
    "        pad = [self.tokenizer.vocab['[PAD]']]\n",
    "        \n",
    "        # append separating tokens to sequence       \n",
    "        s1 = cls + s1_random + sep       \n",
    "        s2 = s2_random + sep\n",
    "        s1_label = pad + s1_label + pad\n",
    "        s2_label = s2_label + pad\n",
    "               \n",
    "        # add segement label, adding padding\n",
    "        segment = ([1 for i in range(len(s1))]+[2 for i in range(len(s2))])[:self.seq_len]\n",
    "        # generate 1 input for model\n",
    "        model_input = (s1+s2)[:self.seq_len]\n",
    "        model_label = (s1_label + s2_label)[:self.seq_len]\n",
    "        # add padding where input is shorter than sequence\n",
    "        padding = [self.tokenizer.vocab['[PAD]'] for _ in range(self.seq_len - len(model_input))]\n",
    "        model_input.extend(padding)\n",
    "        model_label.extend(padding)\n",
    "        segment.extend(padding)\n",
    "        \n",
    "\n",
    "\n",
    "        output = {\n",
    "            \"input\": torch.tensor(model_input),\n",
    "            \"label\": torch.tensor(model_label),\n",
    "            \"segment\": torch.tensor(segment),\n",
    "            \"subseq\": torch.tensor(subseq)\n",
    "        }\n",
    "\n",
    "        return {key: value.clone().detach() for key, value in output.items()}        \n",
    "        #return  {\"s1\":s1, \"s2\":s2, \"is_next_label\":is_next_label}\n",
    "        #return {\"t1_random\":t1_random, \"t1_label\":t1_label, \"t2_random\":t2_random, \"t2_label\":t2_label}\n",
    "    \n",
    "    def get_sentence_pair(self, index): \n",
    "        '''gets sentence pair as dicitinary s1, s2, isNext'''\n",
    "        isNext = random.random() > 0.5 # if number > 0.5 isNext is positive\n",
    "        \n",
    "        t1 = self.dataset[index][\"text\"]\n",
    "        if isNext: # select two subsequent lines\n",
    "            t2 = self.dataset[index+1][\"text\"]\n",
    "            return t1, t2, 1 # line1, line2, subsequent\n",
    "        else: # select two non-Subsequent lines (index+1 is excluded from random selection)\n",
    "            t2 = self.get_random_line(index+1)[\"text\"]\n",
    "            return t1, t2, 0 # line1, line2, subsequent\n",
    "        \n",
    "    def get_random_line(self, excludedIndex): \n",
    "        '''return random single sentence excluding'''\n",
    "        randIndex = random.randint(1, self.__len__())\n",
    "            \n",
    "        # ensure that randIndex is not next sentence\n",
    "        while randIndex == excludedIndex:\n",
    "            randIndex = random.randint(1, self.__len__())\n",
    "        \n",
    "        return self.dataset[randIndex]\n",
    "    \n",
    "    def random_masking(self, sentence):\n",
    "        words = sentence.split()\n",
    "        masked_out = []\n",
    "        masked_labels = []\n",
    "        \n",
    "        for i, word in enumerate(words):\n",
    "            rnd_number1 = random.random() # continuous number from [0,1]\n",
    "            rnd_number2 = random.random() # continuous number from [0,1]\n",
    "\n",
    "            # turn word into token, remove [CLS], [SEP]\n",
    "            token = self.tokenizer(word)['input_ids'] \n",
    "            token = token[1:-1]\n",
    "\n",
    "            # replace a word with a probability of 15%\n",
    "            if rnd_number1 < 0.15:\n",
    "\n",
    "                # with 80% chance replace word by mask\n",
    "                if rnd_number2 < 0.8:\n",
    "                    for j in range(len(token)):\n",
    "                        masked_out.append(self.tokenizer.vocab['[MASK]'])\n",
    "                # with 10% chance replace word by random word\n",
    "                elif rnd_number2 < 0.9:\n",
    "                    for k in range(len(token)):\n",
    "                        masked_out.append(random.randrange(len(self.tokenizer.vocab)))\n",
    "                # with 10% chance word remains\n",
    "                else:\n",
    "                    masked_out.append(token)\n",
    "\n",
    "                # set corresponding label\n",
    "                masked_labels.append(token)\n",
    "            # 85% don't change anything\n",
    "            else:\n",
    "                masked_out.append(token)\n",
    "                # create corrsponding 0-label\n",
    "                for l in range(len(token)):\n",
    "                    masked_labels.append(0)\n",
    "                \n",
    "        # flatten output\n",
    "        masked_out = list(itertools.chain(*[[x] if not isinstance(x, list) else x for x in masked_out]))\n",
    "        print(masked_out)\n",
    "        masked_labels = list(itertools.chain(*[[x] if not isinstance(x, list) else x for x in masked_labels]))\n",
    "        print(masked_labels)\n",
    "\n",
    "        # check for correct length\n",
    "        assert len(masked_out) == len(masked_labels)\n",
    "        #assert len(output) == self.seq_len, \"sequence length not fixed! \"+str(len(output)) # from moritz\n",
    "        return masked_out, masked_labels"
   ]
  },
  {
   "cell_type": "markdown",
   "id": "c79e21d7",
   "metadata": {},
   "source": [
    "#### Testing the Dataset and Dataloaders"
   ]
  },
  {
   "cell_type": "code",
   "execution_count": 22,
   "id": "40334c37",
   "metadata": {},
   "outputs": [
    {
     "name": "stderr",
     "output_type": "stream",
     "text": [
      "Found cached dataset bookcorpus (C:/Users/Johannes/.cache/huggingface/datasets/bookcorpus/plain_text/1.0.0/eddee3cae1cc263a431aa98207d4d27fd8a73b0a9742f692af0e6c65afa4d75f)\n"
     ]
    },
    {
     "data": {
      "text/plain": [
       "100"
      ]
     },
     "execution_count": 22,
     "metadata": {},
     "output_type": "execute_result"
    }
   ],
   "source": [
    "test = Bookcorpus(tokenizer, n_rows = 100)\n",
    "len(test)"
   ]
  },
  {
   "cell_type": "code",
   "execution_count": 23,
   "id": "8b123188",
   "metadata": {},
   "outputs": [],
   "source": [
    "dl = DataLoader(test,batch_size=2,shuffle=False)"
   ]
  },
  {
   "cell_type": "code",
   "execution_count": 24,
   "id": "9ed0ac1b",
   "metadata": {
    "scrolled": true
   },
   "outputs": [
    {
     "data": {
      "text/plain": [
       "'for i in range(1,1000):\\n    batch = next(iter(dl))\\n    for j in range(1,2): # batchsize\\n        length_ = len(batch[\"bert_input\"][j])\\n        #print(length_)\\n        assert length_==SEQ_LEN, \"sequence size is not \"+str(SEQ_LEN)+\": \"+ str(length_)'"
      ]
     },
     "execution_count": 24,
     "metadata": {},
     "output_type": "execute_result"
    }
   ],
   "source": [
    "#is sequence length fixed?\n",
    "\"\"\"for i in range(1,1000):\n",
    "    batch = next(iter(dl))\n",
    "    for j in range(1,2): # batchsize\n",
    "        length_ = len(batch[\"bert_input\"][j])\n",
    "        #print(length_)\n",
    "        assert length_==SEQ_LEN, \"sequence size is not \"+str(SEQ_LEN)+\": \"+ str(length_)\"\"\""
   ]
  },
  {
   "cell_type": "code",
   "execution_count": 25,
   "id": "feee7d0f",
   "metadata": {},
   "outputs": [
    {
     "name": "stdout",
     "output_type": "stream",
     "text": [
      "[2788, 1010, 2002, 2052, 2022, 13311, 2105, 1996, 2542, 2282, 1010, 2652, 103, 2010, 10899, 1012]\n",
      "[0, 0, 0, 0, 0, 0, 0, 0, 0, 0, 0, 0, 2007, 0, 0, 0]\n",
      "[2002, 1005, 1040, 2464, 1996, 103, 2471, 2011, 6707, 103, 6195, 103, 103, 1037, 2210, 2402, 2005, 1996, 103, 9476, 1010, 2021, 2007, 3080, 103, 1010, 25294, 2007, 2014, 3428, 103, 6701, 2001, 2411, 103, 2000, 2477, 2008, 2020, 3080, 1012]\n",
      "[0, 0, 0, 0, 0, 3185, 0, 0, 0, 1010, 0, 2002, 2001, 0, 0, 0, 2005, 0, 18720, 0, 0, 0, 0, 0, 12334, 0, 2247, 0, 0, 0, 1010, 0, 0, 0, 6086, 0, 0, 0, 0, 0, 0]\n",
      "[103, 2074, 103, 2298, 2012, 103, 7163, 2239, 2741, 2032, 8134, 4937, 22436, 2594, 1012]\n",
      "[2021, 0, 2028, 0, 0, 1037, 0, 0, 0, 0, 0, 0, 0, 0, 0]\n",
      "[2008, 2018, 6793, 12756, 1005, 1055, 2933, 2043, 2016, 2288, 10839, 5102, 103, 1012]\n",
      "[0, 0, 2042, 0, 0, 0, 0, 0, 0, 0, 2032, 0, 3041, 0]\n"
     ]
    },
    {
     "data": {
      "text/plain": [
       "{'input': tensor([[  101,  2788,  1010,  2002,  2052,  2022, 13311,  2105,  1996,  2542,\n",
       "           2282,  1010,  2652,   103,  2010, 10899,  1012,   102,  2002,  1005,\n",
       "           1040,  2464,  1996,   103,  2471,  2011,  6707,   103,  6195,   103,\n",
       "            103,  1037,  2210,  2402,  2005,  1996,   103,  9476,  1010,  2021,\n",
       "           2007,  3080,   103,  1010, 25294,  2007,  2014,  3428,   103,  6701,\n",
       "           2001,  2411,   103,  2000,  2477,  2008,  2020,  3080,  1012,   102,\n",
       "              0,     0,     0,     0],\n",
       "         [  101,   103,  2074,   103,  2298,  2012,   103,  7163,  2239,  2741,\n",
       "           2032,  8134,  4937, 22436,  2594,  1012,   102,  2008,  2018,  6793,\n",
       "          12756,  1005,  1055,  2933,  2043,  2016,  2288, 10839,  5102,   103,\n",
       "           1012,   102,     0,     0,     0,     0,     0,     0,     0,     0,\n",
       "              0,     0,     0,     0,     0,     0,     0,     0,     0,     0,\n",
       "              0,     0,     0,     0,     0,     0,     0,     0,     0,     0,\n",
       "              0,     0,     0,     0]]),\n",
       " 'label': tensor([[    0,     0,     0,     0,     0,     0,     0,     0,     0,     0,\n",
       "              0,     0,     0,  2007,     0,     0,     0,     0,     0,     0,\n",
       "              0,     0,     0,  3185,     0,     0,     0,  1010,     0,  2002,\n",
       "           2001,     0,     0,     0,  2005,     0, 18720,     0,     0,     0,\n",
       "              0,     0, 12334,     0,  2247,     0,     0,     0,  1010,     0,\n",
       "              0,     0,  6086,     0,     0,     0,     0,     0,     0,     0,\n",
       "              0,     0,     0,     0],\n",
       "         [    0,  2021,     0,  2028,     0,     0,  1037,     0,     0,     0,\n",
       "              0,     0,     0,     0,     0,     0,     0,     0,     0,  2042,\n",
       "              0,     0,     0,     0,     0,     0,     0,  2032,     0,  3041,\n",
       "              0,     0,     0,     0,     0,     0,     0,     0,     0,     0,\n",
       "              0,     0,     0,     0,     0,     0,     0,     0,     0,     0,\n",
       "              0,     0,     0,     0,     0,     0,     0,     0,     0,     0,\n",
       "              0,     0,     0,     0]]),\n",
       " 'segment': tensor([[1, 1, 1, 1, 1, 1, 1, 1, 1, 1, 1, 1, 1, 1, 1, 1, 1, 1, 2, 2, 2, 2, 2, 2,\n",
       "          2, 2, 2, 2, 2, 2, 2, 2, 2, 2, 2, 2, 2, 2, 2, 2, 2, 2, 2, 2, 2, 2, 2, 2,\n",
       "          2, 2, 2, 2, 2, 2, 2, 2, 2, 2, 2, 2, 0, 0, 0, 0],\n",
       "         [1, 1, 1, 1, 1, 1, 1, 1, 1, 1, 1, 1, 1, 1, 1, 1, 1, 2, 2, 2, 2, 2, 2, 2,\n",
       "          2, 2, 2, 2, 2, 2, 2, 2, 0, 0, 0, 0, 0, 0, 0, 0, 0, 0, 0, 0, 0, 0, 0, 0,\n",
       "          0, 0, 0, 0, 0, 0, 0, 0, 0, 0, 0, 0, 0, 0, 0, 0]]),\n",
       " 'subseq': tensor([0, 1])}"
      ]
     },
     "execution_count": 25,
     "metadata": {},
     "output_type": "execute_result"
    }
   ],
   "source": [
    "batch = next(iter(dl))\n",
    "batch"
   ]
  },
  {
   "cell_type": "markdown",
   "id": "fae6b813",
   "metadata": {},
   "source": [
    "#### Visualize encoded sequence"
   ]
  },
  {
   "cell_type": "code",
   "execution_count": 26,
   "id": "44515720",
   "metadata": {},
   "outputs": [
    {
     "data": {
      "text/plain": [
       "\"[CLS] usually, he would be tearing around the living room, playing [MASK] his toys. [SEP] he'd seen the [MASK] almost by mistake [MASK] considering [MASK] [MASK] a little young for the [MASK] cartoon, but with older [MASK], argus with her brothers [MASK] mason was often [MASK] to things that were older. [SEP] [PAD] [PAD] [PAD] [PAD] [CLS] [MASK] just [MASK] look at [MASK] minion sent him practically catatonic. [SEP] that had supporters megan's plan when she got hurling dressed [MASK]. [SEP] [PAD] [PAD] [PAD] [PAD] [PAD] [PAD] [PAD] [PAD] [PAD] [PAD] [PAD] [PAD] [PAD] [PAD] [PAD] [PAD] [PAD] [PAD] [PAD] [PAD] [PAD] [PAD] [PAD] [PAD] [PAD] [PAD] [PAD] [PAD] [PAD] [PAD] [PAD] [PAD]\""
      ]
     },
     "execution_count": 26,
     "metadata": {},
     "output_type": "execute_result"
    }
   ],
   "source": [
    "from itertools import chain\n",
    "flattened = list(chain(*((batch[\"input\"]))))\n",
    "tokenizer.decode(flattened)"
   ]
  },
  {
   "cell_type": "markdown",
   "id": "c828f7d6",
   "metadata": {},
   "source": [
    "## Embedding\n",
    "\n",
    "Positional Embedding (see To DO) must be altered otherwise use nn.Embedding"
   ]
  },
  {
   "cell_type": "code",
   "execution_count": 29,
   "id": "4fc6b1c2",
   "metadata": {},
   "outputs": [],
   "source": [
    "import torch\n",
    "import torch.nn as nn\n",
    "import math\n",
    "\n",
    "\n",
    "class PositionEmbedding(torch.nn.Module):\n",
    "    def __init__(self, embed_size, seq_len):\n",
    "        super().__init__()\n",
    "        n = 10000 # scalar for pos encoding\n",
    "        # create embedding matrix dim(seq_len  x embed_size)\n",
    "        self.embed_matrix = torch.zeros(seq_len, embed_size).float()\n",
    "        # positional encoding not to be updated while gradient descent\n",
    "        self.embed_matrix.require_grad = False\n",
    "        \n",
    "        # compute embedding for each position in input\n",
    "        for position in range(seq_len):\n",
    "            # run trough every component of embedding vector for each position with stride 2\n",
    "            for c in range(0, embed_size, 2):\n",
    "                # even \n",
    "                self.embed_matrix[position,c] = math.sin(position/(n**(2*c/embed_size)))\n",
    "                # uneven\n",
    "                self.embed_matrix[position,c+1] = math.cos(position/(n**(2*c/embed_size)))\n",
    "        \n",
    "        # self.embed_matrix =  embed_matrix.unsqueeze(0) \n",
    "    def forward(self, x):\n",
    "        return self.embed_matrix\n",
    "            \n",
    "\n",
    "class BERTEmbedding(torch.nn.Module):\n",
    "    def __init__(self, vocab_size, embed_size, seq_len=SEQ_LEN, n_segments=N_SEGMENTS, dropout=DROPOUT):\n",
    "        super().__init__()\n",
    "        # token embedding: transforms (vocabulary size, number of tokens) into (vocabulary size, number of tokens, length of embdding vector)\n",
    "        self.token = nn.Embedding(vocab_size, embed_size, padding_idx=0) # padding remains 0 during training\n",
    "        # segment embedding for sentence 1, sentence 2, padding\n",
    "        self.segment = nn.Embedding(n_segments, embed_size, padding_idx=0)\n",
    "        # embedding of position\n",
    "        self.position = PositionEmbedding(embed_size, seq_len) \n",
    "        # droput probability per token\n",
    "        self.dropout = nn.Dropout(p=dropout)\n",
    "    \n",
    "    def forward(self, sequence, seg_label):\n",
    "        return self.dropout(self.token(sequence) + self.segment(seg_label) + self.position(sequence))        \n",
    "    "
   ]
  },
  {
   "cell_type": "code",
   "execution_count": 30,
   "id": "75a36f39",
   "metadata": {},
   "outputs": [
    {
     "name": "stdout",
     "output_type": "stream",
     "text": [
      "torch.Size([64])\n",
      "tensor([  101,  2788,  1010,  2002,  2052,  2022, 13311,  2105,  1996,  2542,\n",
      "         2282,  1010,  2652,   103,  2010, 10899,  1012,   102,  2002,  1005,\n",
      "         1040,  2464,  1996,   103,  2471,  2011,  6707,   103,  6195,   103,\n",
      "          103,  1037,  2210,  2402,  2005,  1996,   103,  9476,  1010,  2021,\n",
      "         2007,  3080,   103,  1010, 25294,  2007,  2014,  3428,   103,  6701,\n",
      "         2001,  2411,   103,  2000,  2477,  2008,  2020,  3080,  1012,   102,\n",
      "            0,     0,     0,     0])\n",
      "torch.Size([64])\n",
      "tensor([1, 1, 1, 1, 1, 1, 1, 1, 1, 1, 1, 1, 1, 1, 1, 1, 1, 1, 2, 2, 2, 2, 2, 2,\n",
      "        2, 2, 2, 2, 2, 2, 2, 2, 2, 2, 2, 2, 2, 2, 2, 2, 2, 2, 2, 2, 2, 2, 2, 2,\n",
      "        2, 2, 2, 2, 2, 2, 2, 2, 2, 2, 2, 2, 0, 0, 0, 0])\n",
      "torch.Size([64, 768])\n"
     ]
    }
   ],
   "source": [
    "# embedding test: tokenized sequence\n",
    "sample_seq = batch['input'][0] \n",
    "sample_seg = batch['segment'][0]\n",
    "print(sample_seq.size())\n",
    "print(sample_seq)\n",
    "print(sample_seg.size())\n",
    "print(sample_seg)\n",
    "\n",
    "bert = BERTEmbedding(VOCAB_SIZE, EMBED_SIZE)\n",
    "\n",
    "batch_embed = bert(batch['input'][0], batch['segment'][0])\n",
    "\n",
    "print(batch_embed.size())"
   ]
  },
  {
   "cell_type": "markdown",
   "id": "1226e006",
   "metadata": {},
   "source": [
    "## Finetuning\n",
    "\n",
    "Cant be downloaded automatically from huggingface. Needs to be downloaded manually:\n",
    "\n",
    "1) download from kaggle and \n",
    "2) extract in finetuning folder \n",
    "3) Delete the zips"
   ]
  },
  {
   "cell_type": "code",
   "execution_count": 32,
   "id": "b2f30c9c",
   "metadata": {
    "scrolled": true
   },
   "outputs": [
    {
     "name": "stdout",
     "output_type": "stream",
     "text": [
      "Downloading and preparing dataset jigsaw_toxicity_pred/default to C:/Users/Johannes/.cache/huggingface/datasets/jigsaw_toxicity_pred/default-ebae0308d0d3f840/1.1.0/9cf096ac4341c35839bc8a9f6a19d93e18e5ad3d84cf05f690d2bc6f7384af85...\n"
     ]
    },
    {
     "data": {
      "application/vnd.jupyter.widget-view+json": {
       "model_id": "",
       "version_major": 2,
       "version_minor": 0
      },
      "text/plain": [
       "Generating train split:   0%|          | 0/159571 [00:00<?, ? examples/s]"
      ]
     },
     "metadata": {},
     "output_type": "display_data"
    },
    {
     "data": {
      "application/vnd.jupyter.widget-view+json": {
       "model_id": "",
       "version_major": 2,
       "version_minor": 0
      },
      "text/plain": [
       "Generating test split:   0%|          | 0/63978 [00:00<?, ? examples/s]"
      ]
     },
     "metadata": {},
     "output_type": "display_data"
    },
    {
     "name": "stdout",
     "output_type": "stream",
     "text": [
      "Dataset jigsaw_toxicity_pred downloaded and prepared to C:/Users/Johannes/.cache/huggingface/datasets/jigsaw_toxicity_pred/default-ebae0308d0d3f840/1.1.0/9cf096ac4341c35839bc8a9f6a19d93e18e5ad3d84cf05f690d2bc6f7384af85. Subsequent calls will reuse this data.\n"
     ]
    },
    {
     "data": {
      "application/vnd.jupyter.widget-view+json": {
       "model_id": "ce9912e116304d129c23f6aa86ae5c6c",
       "version_major": 2,
       "version_minor": 0
      },
      "text/plain": [
       "  0%|          | 0/2 [00:00<?, ?it/s]"
      ]
     },
     "metadata": {},
     "output_type": "display_data"
    },
    {
     "data": {
      "text/plain": [
       "DatasetDict({\n",
       "    train: Dataset({\n",
       "        features: ['comment_text', 'toxic', 'severe_toxic', 'obscene', 'threat', 'insult', 'identity_hate'],\n",
       "        num_rows: 159571\n",
       "    })\n",
       "    test: Dataset({\n",
       "        features: ['comment_text', 'toxic', 'severe_toxic', 'obscene', 'threat', 'insult', 'identity_hate'],\n",
       "        num_rows: 63978\n",
       "    })\n",
       "})"
      ]
     },
     "execution_count": 32,
     "metadata": {},
     "output_type": "execute_result"
    }
   ],
   "source": [
    "# toxic_path = r\"C:\\Users\\morit\\OneDrive\\UNI\\Master\\WS23\\PML\\repo\\bert_from_scratch.toxic_comment\\datasets\\finetuning\\kaggle-toxic_comment\"\n",
    "toxic_path = r\"C:\\Users\\Johannes\\Project Machine Learning\\datasets\\finetuning\\toxic_comment\"\n",
    "toxic_dataset = load_dataset(\"jigsaw_toxicity_pred\", data_dir=toxic_path)\n",
    "toxic_dataset"
   ]
  },
  {
   "cell_type": "markdown",
   "id": "f3dd0356",
   "metadata": {},
   "source": [
    "#### Test with standard dataloader"
   ]
  },
  {
   "cell_type": "code",
   "execution_count": 44,
   "id": "f394a9e5",
   "metadata": {},
   "outputs": [
    {
     "data": {
      "text/plain": [
       "{'comment_text': ['\"\\n\\n Pro-Gay Bias? \\nTo be honest, I am not sure I entirely follow. What is exactly is meant by holding a \"\"pro-gay bias\"\"? That I am in favour of homosexuality? This seems entirely nonsensical, and indeed strictly speaking to be \"\"pro-gay\"\" would mean you hold that it is a superior sexual orientation that all should aspire to. To be quite honest, I think the whole notion of a \"\"pro-gay bias\"\" is entirely homophobic, and used to paint those who accept different sexual orientations in a manner that suggests they desire to promote homosexuality. Clearly, the article has a distinctly homophobic bias. It portrays a homosexuality as abnormal and deviant, homosexuality as a \"\"post-industrial\"\" cosmopolitan lifestyle, and homosexuality as the social norm. These are all strongly homophobic POVs which are rejected by those who accept different sexual orientations (i.e., the majority of society in the West, and specifically progressives and social liberals). Those who hold such beliefs are indeed social conservatives who defend traditional morality and particularly heterosexual relationships. Stating the views of social-conservatives as objective facts, without even engaging with the beliefs of the majority of society who accept homosexuality, is clearly and irrefutably extremely biased. As is the implication that homosexuality has supposedly \"\"increased\"\"  as a result of the  \"\"modern urbanity of the post-industrial age\"\", when in fact it is irrefutably due to the increasing acceptance of people\\'s sexualities that has occurred in Western society in the 20th Century. On these grounds, I intend to revert this article.  10:00, 9 Jun 2004 (UTC)\"'],\n",
       " 'toxic': tensor([0]),\n",
       " 'severe_toxic': tensor([0]),\n",
       " 'obscene': tensor([0]),\n",
       " 'threat': tensor([0]),\n",
       " 'insult': tensor([0]),\n",
       " 'identity_hate': tensor([0])}"
      ]
     },
     "execution_count": 44,
     "metadata": {},
     "output_type": "execute_result"
    }
   ],
   "source": [
    "from torch.utils.data import DataLoader\n",
    "dataloader = DataLoader(toxic_dataset[\"train\"], batch_size=1, shuffle = True)\n",
    "batch = next(iter(dataloader))\n",
    "batch"
   ]
  },
  {
   "cell_type": "markdown",
   "id": "4203ec61",
   "metadata": {},
   "source": [
    "#### Standard Tokenizer not sufficient, padding is missing and probably also truncation"
   ]
  },
  {
   "cell_type": "code",
   "execution_count": 45,
   "id": "2a7997a3",
   "metadata": {
    "scrolled": true
   },
   "outputs": [
    {
     "data": {
      "text/plain": [
       "{'input_ids': [[101, 1000, 4013, 1011, 5637, 13827, 1029, 2000, 2022, 7481, 1010, 1045, 2572, 2025, 2469, 1045, 4498, 3582, 1012, 2054, 2003, 3599, 2003, 3214, 2011, 3173, 1037, 1000, 1000, 4013, 1011, 5637, 13827, 1000, 1000, 1029, 2008, 1045, 2572, 1999, 7927, 1997, 15949, 1029, 2023, 3849, 4498, 2512, 5054, 19570, 2389, 1010, 1998, 5262, 9975, 4092, 2000, 2022, 1000, 1000, 4013, 1011, 5637, 1000, 1000, 2052, 2812, 2017, 2907, 2008, 2009, 2003, 1037, 6020, 4424, 10296, 2008, 2035, 2323, 2004, 20781, 2000, 1012, 2000, 2022, 3243, 7481, 1010, 1045, 2228, 1996, 2878, 9366, 1997, 1037, 1000, 1000, 4013, 1011, 5637, 13827, 1000, 1000, 2003, 4498, 24004, 20200, 1010, 1998, 2109, 2000, 6773, 2216, 2040, 5138, 2367, 4424, 10296, 2015, 1999, 1037, 5450, 2008, 6083, 2027, 4792, 2000, 5326, 15949, 1012, 4415, 1010, 1996, 3720, 2038, 1037, 19517, 24004, 20200, 13827, 1012, 2009, 17509, 1037, 15949, 2004, 19470, 1998, 14386, 4630, 1010, 15949, 2004, 1037, 1000, 1000, 2695, 1011, 3919, 1000, 1000, 24686, 9580, 1010, 1998, 15949, 2004, 1996, 2591, 13373, 1012, 2122, 2024, 2035, 6118, 24004, 20200, 13433, 15088, 2029, 2024, 5837, 2011, 2216, 2040, 5138, 2367, 4424, 10296, 2015, 1006, 1045, 1012, 1041, 1012, 1010, 1996, 3484, 1997, 2554, 1999, 1996, 2225, 1010, 1998, 4919, 6555, 2015, 1998, 2591, 13350, 1007, 1012, 2216, 2040, 2907, 2107, 9029, 2024, 5262, 2591, 11992, 2040, 6985, 3151, 16561, 1998, 3391, 28229, 6550, 1012, 5517, 1996, 5328, 1997, 2591, 1011, 11992, 2004, 7863, 8866, 1010, 2302, 2130, 11973, 2007, 1996, 9029, 1997, 1996, 3484, 1997, 2554, 2040, 5138, 15949, 1010, 2003, 4415, 1998, 20868, 2890, 11263, 2696, 6321, 5186, 25352, 1012, 2004, 2003, 1996, 25323, 2008, 15949, 2038, 10743, 1000, 1000, 3445, 1000, 1000, 2004, 1037, 2765, 1997, 1996, 1000, 1000, 2715, 3923, 3012, 1997, 1996, 2695, 1011, 3919, 2287, 1000, 1000, 1010, 2043, 1999, 2755, 2009, 2003, 20868, 2890, 11263, 2696, 6321, 2349, 2000, 1996, 4852, 9920, 1997, 2111, 1005, 1055, 4424, 6447, 2008, 2038, 4158, 1999, 2530, 2554, 1999, 1996, 3983, 2301, 1012, 2006, 2122, 5286, 1010, 1045, 13566, 2000, 7065, 8743, 2023, 3720, 1012, 2184, 1024, 4002, 1010, 1023, 12022, 2432, 1006, 11396, 1007, 1000, 102]], 'token_type_ids': [[0, 0, 0, 0, 0, 0, 0, 0, 0, 0, 0, 0, 0, 0, 0, 0, 0, 0, 0, 0, 0, 0, 0, 0, 0, 0, 0, 0, 0, 0, 0, 0, 0, 0, 0, 0, 0, 0, 0, 0, 0, 0, 0, 0, 0, 0, 0, 0, 0, 0, 0, 0, 0, 0, 0, 0, 0, 0, 0, 0, 0, 0, 0, 0, 0, 0, 0, 0, 0, 0, 0, 0, 0, 0, 0, 0, 0, 0, 0, 0, 0, 0, 0, 0, 0, 0, 0, 0, 0, 0, 0, 0, 0, 0, 0, 0, 0, 0, 0, 0, 0, 0, 0, 0, 0, 0, 0, 0, 0, 0, 0, 0, 0, 0, 0, 0, 0, 0, 0, 0, 0, 0, 0, 0, 0, 0, 0, 0, 0, 0, 0, 0, 0, 0, 0, 0, 0, 0, 0, 0, 0, 0, 0, 0, 0, 0, 0, 0, 0, 0, 0, 0, 0, 0, 0, 0, 0, 0, 0, 0, 0, 0, 0, 0, 0, 0, 0, 0, 0, 0, 0, 0, 0, 0, 0, 0, 0, 0, 0, 0, 0, 0, 0, 0, 0, 0, 0, 0, 0, 0, 0, 0, 0, 0, 0, 0, 0, 0, 0, 0, 0, 0, 0, 0, 0, 0, 0, 0, 0, 0, 0, 0, 0, 0, 0, 0, 0, 0, 0, 0, 0, 0, 0, 0, 0, 0, 0, 0, 0, 0, 0, 0, 0, 0, 0, 0, 0, 0, 0, 0, 0, 0, 0, 0, 0, 0, 0, 0, 0, 0, 0, 0, 0, 0, 0, 0, 0, 0, 0, 0, 0, 0, 0, 0, 0, 0, 0, 0, 0, 0, 0, 0, 0, 0, 0, 0, 0, 0, 0, 0, 0, 0, 0, 0, 0, 0, 0, 0, 0, 0, 0, 0, 0, 0, 0, 0, 0, 0, 0, 0, 0, 0, 0, 0, 0, 0, 0, 0, 0, 0, 0, 0, 0, 0, 0, 0, 0, 0, 0, 0, 0, 0, 0, 0, 0, 0, 0, 0, 0, 0, 0, 0, 0, 0, 0, 0, 0, 0, 0, 0, 0, 0, 0, 0, 0, 0, 0, 0, 0, 0, 0, 0, 0, 0, 0, 0]], 'attention_mask': [[1, 1, 1, 1, 1, 1, 1, 1, 1, 1, 1, 1, 1, 1, 1, 1, 1, 1, 1, 1, 1, 1, 1, 1, 1, 1, 1, 1, 1, 1, 1, 1, 1, 1, 1, 1, 1, 1, 1, 1, 1, 1, 1, 1, 1, 1, 1, 1, 1, 1, 1, 1, 1, 1, 1, 1, 1, 1, 1, 1, 1, 1, 1, 1, 1, 1, 1, 1, 1, 1, 1, 1, 1, 1, 1, 1, 1, 1, 1, 1, 1, 1, 1, 1, 1, 1, 1, 1, 1, 1, 1, 1, 1, 1, 1, 1, 1, 1, 1, 1, 1, 1, 1, 1, 1, 1, 1, 1, 1, 1, 1, 1, 1, 1, 1, 1, 1, 1, 1, 1, 1, 1, 1, 1, 1, 1, 1, 1, 1, 1, 1, 1, 1, 1, 1, 1, 1, 1, 1, 1, 1, 1, 1, 1, 1, 1, 1, 1, 1, 1, 1, 1, 1, 1, 1, 1, 1, 1, 1, 1, 1, 1, 1, 1, 1, 1, 1, 1, 1, 1, 1, 1, 1, 1, 1, 1, 1, 1, 1, 1, 1, 1, 1, 1, 1, 1, 1, 1, 1, 1, 1, 1, 1, 1, 1, 1, 1, 1, 1, 1, 1, 1, 1, 1, 1, 1, 1, 1, 1, 1, 1, 1, 1, 1, 1, 1, 1, 1, 1, 1, 1, 1, 1, 1, 1, 1, 1, 1, 1, 1, 1, 1, 1, 1, 1, 1, 1, 1, 1, 1, 1, 1, 1, 1, 1, 1, 1, 1, 1, 1, 1, 1, 1, 1, 1, 1, 1, 1, 1, 1, 1, 1, 1, 1, 1, 1, 1, 1, 1, 1, 1, 1, 1, 1, 1, 1, 1, 1, 1, 1, 1, 1, 1, 1, 1, 1, 1, 1, 1, 1, 1, 1, 1, 1, 1, 1, 1, 1, 1, 1, 1, 1, 1, 1, 1, 1, 1, 1, 1, 1, 1, 1, 1, 1, 1, 1, 1, 1, 1, 1, 1, 1, 1, 1, 1, 1, 1, 1, 1, 1, 1, 1, 1, 1, 1, 1, 1, 1, 1, 1, 1, 1, 1, 1, 1, 1, 1, 1, 1, 1, 1, 1, 1, 1, 1, 1]]}"
      ]
     },
     "execution_count": 45,
     "metadata": {},
     "output_type": "execute_result"
    }
   ],
   "source": [
    "encoded_input = tokenizer(batch[\"comment_text\"])\n",
    "encoded_input"
   ]
  },
  {
   "cell_type": "code",
   "execution_count": 46,
   "id": "dc5db146",
   "metadata": {},
   "outputs": [
    {
     "data": {
      "text/plain": [
       "'[CLS] \" pro - gay bias? to be honest, i am not sure i entirely follow. what is exactly is meant by holding a \" \" pro - gay bias \" \"? that i am in favour of homosexuality? this seems entirely nonsensical, and indeed strictly speaking to be \" \" pro - gay \" \" would mean you hold that it is a superior sexual orientation that all should aspire to. to be quite honest, i think the whole notion of a \" \" pro - gay bias \" \" is entirely homophobic, and used to paint those who accept different sexual orientations in a manner that suggests they desire to promote homosexuality. clearly, the article has a distinctly homophobic bias. it portrays a homosexuality as abnormal and deviant, homosexuality as a \" \" post - industrial \" \" cosmopolitan lifestyle, and homosexuality as the social norm. these are all strongly homophobic povs which are rejected by those who accept different sexual orientations ( i. e., the majority of society in the west, and specifically progressives and social liberals ). those who hold such beliefs are indeed social conservatives who defend traditional morality and particularly heterosexual relationships. stating the views of social - conservatives as objective facts, without even engaging with the beliefs of the majority of society who accept homosexuality, is clearly and irrefutably extremely biased. as is the implication that homosexuality has supposedly \" \" increased \" \" as a result of the \" \" modern urbanity of the post - industrial age \" \", when in fact it is irrefutably due to the increasing acceptance of people\\'s sexualities that has occurred in western society in the 20th century. on these grounds, i intend to revert this article. 10 : 00, 9 jun 2004 ( utc ) \" [SEP]'"
      ]
     },
     "execution_count": 46,
     "metadata": {},
     "output_type": "execute_result"
    }
   ],
   "source": [
    "from itertools import chain\n",
    "flattened = list(chain(*(encoded_input[\"input_ids\"])))\n",
    "tokenizer.decode(flattened)"
   ]
  },
  {
   "cell_type": "markdown",
   "id": "5411158c",
   "metadata": {},
   "source": [
    "#### Custom Dataset"
   ]
  },
  {
   "cell_type": "code",
   "execution_count": 47,
   "id": "65f9e9a6",
   "metadata": {},
   "outputs": [],
   "source": [
    "class ToxicComment(Dataset):\n",
    "    \n",
    "    def __init__(self, tokenizer, seq_len=64, split=\"train\", n_rows:int=None):\n",
    "        \n",
    "        if not split in [\"train\",\"test\"]:\n",
    "            raise ValueError(\"Parameter has to be 'train' or 'test'\")\n",
    "            \n",
    "        if n_rows is not None:\n",
    "            self.dataset = load_dataset(\"jigsaw_toxicity_pred\", data_dir=toxic_path, split=split+\"[0:\"+str(n_rows)+\"]\")#[split]\n",
    "        else:\n",
    "            self.dataset = load_dataset(\"jigsaw_toxicity_pred\", data_dir=toxic_path)#[split]\n",
    "        \n",
    "        \n",
    "        self.nrows = len(self.dataset) \n",
    "        self.tokenizer = tokenizer\n",
    "        self.seq_len = seq_len\n",
    "\n",
    "    def __len__(self):\n",
    "        return self.nrows\n",
    "\n",
    "    def __getitem__(self, item):\n",
    "        \n",
    "        # Step 1: get row\n",
    "        output = self.dataset[item]\n",
    "        #print(output)\n",
    "        \n",
    "        # Step 2: tokenize comment\n",
    "        output[\"bert_input\"] = tokenizer(\n",
    "            output[\"comment_text\"],\n",
    "            max_length=self.seq_len ,\n",
    "            padding=\"max_length\", \n",
    "            truncation=True, \n",
    "            return_tensors='pt'\n",
    "        )[\"input_ids\"]\n",
    "        \n",
    "        output.pop(\"comment_text\") #delete raw text\n",
    "        \n",
    "        # Step 3: add bert_label and segment_label like in pretraining task for consistency TODO: Correct?\n",
    "        output[\"bert_label\"] = torch.zeros(self.seq_len)\n",
    "        output[\"segment_label\"] = torch.ones(self.seq_len)\n",
    "        \n",
    "        # Step 4: collect different labels to one tensor \n",
    "        # TODO: desired?\n",
    "        \n",
    "        return output\n",
    "\n",
    "    \n",
    "    def get_sent(self, index): #selfmade\n",
    "        '''gets sentence pair as dicitinary s1, s2, isNext'''\n",
    "        isNext = random.random() > 0.5\n",
    "        \n",
    "        t1 = self.dataset[index][\"text\"]\n",
    "        if isNext:\n",
    "            t2 = self.dataset[index+1][\"text\"]\n",
    "            return t1, t2, 1\n",
    "        else:\n",
    "            t2 = self.get_random_line(index+1)[\"text\"]\n",
    "            return t1, t2, 0\n",
    "        "
   ]
  },
  {
   "cell_type": "markdown",
   "id": "f5a7d0bf",
   "metadata": {},
   "source": [
    "#### Test Dataset"
   ]
  },
  {
   "cell_type": "code",
   "execution_count": 49,
   "id": "12bf7b03",
   "metadata": {},
   "outputs": [
    {
     "name": "stderr",
     "output_type": "stream",
     "text": [
      "Found cached dataset jigsaw_toxicity_pred (C:/Users/Johannes/.cache/huggingface/datasets/jigsaw_toxicity_pred/default-ebae0308d0d3f840/1.1.0/9cf096ac4341c35839bc8a9f6a19d93e18e5ad3d84cf05f690d2bc6f7384af85)\n"
     ]
    },
    {
     "data": {
      "text/plain": [
       "100"
      ]
     },
     "execution_count": 49,
     "metadata": {},
     "output_type": "execute_result"
    }
   ],
   "source": [
    "test2 = ToxicComment(tokenizer=tokenizer, seq_len=SEQ_LEN, split = \"train\", n_rows = 100)\n",
    "len(test2)"
   ]
  },
  {
   "cell_type": "code",
   "execution_count": 50,
   "id": "d3c0766c",
   "metadata": {},
   "outputs": [
    {
     "data": {
      "text/plain": [
       "{'toxic': tensor([0, 0, 0, 0, 0, 0, 1, 0, 0, 0]),\n",
       " 'severe_toxic': tensor([0, 0, 0, 0, 0, 0, 1, 0, 0, 0]),\n",
       " 'obscene': tensor([0, 0, 0, 0, 0, 0, 1, 0, 0, 0]),\n",
       " 'threat': tensor([0, 0, 0, 0, 0, 0, 0, 0, 0, 0]),\n",
       " 'insult': tensor([0, 0, 0, 0, 0, 0, 1, 0, 0, 0]),\n",
       " 'identity_hate': tensor([0, 0, 0, 0, 0, 0, 0, 0, 0, 0]),\n",
       " 'bert_input': tensor([[[  101,  7526,  2339,  1996, 10086,  2015,  2081,  2104,  2026,  5310,\n",
       "           18442, 13076, 12392,  2050,  5470,  2020, 16407,  1029,  2027,  4694,\n",
       "            1005,  1056,  3158,  9305, 22556,  1010,  2074,  8503,  2006,  2070,\n",
       "            3806,  2044,  1045,  5444,  2012,  2047,  2259, 14421,  6904,  2278,\n",
       "            1012,  1998,  3531,  2123,  1005,  1056,  6366,  1996, 23561,  2013,\n",
       "            1996,  2831,  3931,  2144,  1045,  1005,  1049,  3394,  2085,  1012,\n",
       "            6486,  1012, 16327,   102]],\n",
       " \n",
       "         [[  101,  1040,  1005, 22091,  2860,   999,  2002,  3503,  2023,  4281,\n",
       "            6120,  1045,  1005,  1049,  9428,  5881,  2007,  1012,  4283,  1012,\n",
       "            1006,  2831,  1007,  2538,  1024,  4868,  1010,  2254,  2340,  1010,\n",
       "            2355,  1006, 11396,  1007,   102,     0,     0,     0,     0,     0,\n",
       "               0,     0,     0,     0,     0,     0,     0,     0,     0,     0,\n",
       "               0,     0,     0,     0,     0,     0,     0,     0,     0,     0,\n",
       "               0,     0,     0,     0]],\n",
       " \n",
       "         [[  101,  4931,  2158,  1010,  1045,  1005,  1049,  2428,  2025,  2667,\n",
       "            2000, 10086,  2162,  1012,  2009,  1005,  1055,  2074,  2008,  2023,\n",
       "            3124,  2003,  7887,  9268,  7882,  2592,  1998,  3331,  2000,  2033,\n",
       "            2083, 10086,  2015,  2612,  1997,  2026,  2831,  3931,  1012,  2002,\n",
       "            3849,  2000,  2729,  2062,  2055,  1996,  4289,  3436,  2084,  1996,\n",
       "            5025, 18558,  1012,   102,     0,     0,     0,     0,     0,     0,\n",
       "               0,     0,     0,     0]],\n",
       " \n",
       "         [[  101,  1000,  2062,  1045,  2064,  1005,  1056,  2191,  2151,  2613,\n",
       "           15690,  2006,  7620,  1011,  1045,  4999,  2065,  1996,  2930,  6747,\n",
       "            2323,  2022,  2101,  2006,  1010,  2030,  1037,  4942, 29015,  1997,\n",
       "            1000,  1000,  4127,  1997, 13436,  1000,  1000,  1011,  1045,  2228,\n",
       "            1996,  7604,  2089,  2342, 29369,  2075,  2061,  2008,  2027,  2024,\n",
       "            2035,  1999,  1996,  6635,  2168,  4289, 29464,  3058,  4289,  4385,\n",
       "            1012,  1045,  2064,   102]],\n",
       " \n",
       "         [[  101,  2017,  1010,  2909,  1010,  2024,  2026,  5394,  1012,  2151,\n",
       "            3382,  2017,  3342,  2054,  3931,  2008,  1005,  1055,  2006,  1029,\n",
       "             102,     0,     0,     0,     0,     0,     0,     0,     0,     0,\n",
       "               0,     0,     0,     0,     0,     0,     0,     0,     0,     0,\n",
       "               0,     0,     0,     0,     0,     0,     0,     0,     0,     0,\n",
       "               0,     0,     0,     0,     0,     0,     0,     0,     0,     0,\n",
       "               0,     0,     0,     0]],\n",
       " \n",
       "         [[  101,  1000, 23156,  2013,  2033,  2004,  2092,  1010,  2224,  1996,\n",
       "            5906,  2092,  1012,  1087,  2831,  1000,   102,     0,     0,     0,\n",
       "               0,     0,     0,     0,     0,     0,     0,     0,     0,     0,\n",
       "               0,     0,     0,     0,     0,     0,     0,     0,     0,     0,\n",
       "               0,     0,     0,     0,     0,     0,     0,     0,     0,     0,\n",
       "               0,     0,     0,     0,     0,     0,     0,     0,     0,     0,\n",
       "               0,     0,     0,     0]],\n",
       " \n",
       "         [[  101, 10338,  6342,  9102,  2077,  2017, 18138,  2105,  2006,  2026,\n",
       "            2147,   102,     0,     0,     0,     0,     0,     0,     0,     0,\n",
       "               0,     0,     0,     0,     0,     0,     0,     0,     0,     0,\n",
       "               0,     0,     0,     0,     0,     0,     0,     0,     0,     0,\n",
       "               0,     0,     0,     0,     0,     0,     0,     0,     0,     0,\n",
       "               0,     0,     0,     0,     0,     0,     0,     0,     0,     0,\n",
       "               0,     0,     0,     0]],\n",
       " \n",
       "         [[  101,  2115,  3158,  9305,  2964,  2000,  1996,  4717, 11895,  2099,\n",
       "           21827,  3720,  2038,  2042, 16407,  1012,  3531,  2123,  1005,  1056,\n",
       "            2079,  2009,  2153,  1010,  2030,  2017,  2097,  2022,  7917,  1012,\n",
       "             102,     0,     0,     0,     0,     0,     0,     0,     0,     0,\n",
       "               0,     0,     0,     0,     0,     0,     0,     0,     0,     0,\n",
       "               0,     0,     0,     0,     0,     0,     0,     0,     0,     0,\n",
       "               0,     0,     0,     0]],\n",
       " \n",
       "         [[  101,  3374,  2065,  1996,  2773,  1005, 14652,  1005,  2001,  5805,\n",
       "            2000,  2017,  1012,  4312,  1010,  1045,  1005,  1049,  2025, 16533,\n",
       "            2000,  4339,  2505,  1999,  1996,  3720,  1006, 10166,  2027,  2052,\n",
       "            5376,  2006,  2033,  2005,  3158,  9305,  2964,  1007,  1010,  1045,\n",
       "            1005,  1049,  6414, 17942,  2008,  2009,  2022,  2062,  4372,  5666,\n",
       "           20464, 24174,  2594,  2061,  2028,  2064,  2224,  2009,  2005,  2082,\n",
       "            2004,  1037,  4431,   102]],\n",
       " \n",
       "         [[  101, 12139,  2006,  2023,  3395,  1998,  2029,  2024, 10043,  2000,\n",
       "            2216,  1997,  4241, 15909, 25619,  5004,   102,     0,     0,     0,\n",
       "               0,     0,     0,     0,     0,     0,     0,     0,     0,     0,\n",
       "               0,     0,     0,     0,     0,     0,     0,     0,     0,     0,\n",
       "               0,     0,     0,     0,     0,     0,     0,     0,     0,     0,\n",
       "               0,     0,     0,     0,     0,     0,     0,     0,     0,     0,\n",
       "               0,     0,     0,     0]]]),\n",
       " 'bert_label': tensor([[0., 0., 0., 0., 0., 0., 0., 0., 0., 0., 0., 0., 0., 0., 0., 0., 0., 0., 0., 0., 0., 0., 0., 0.,\n",
       "          0., 0., 0., 0., 0., 0., 0., 0., 0., 0., 0., 0., 0., 0., 0., 0., 0., 0., 0., 0., 0., 0., 0., 0.,\n",
       "          0., 0., 0., 0., 0., 0., 0., 0., 0., 0., 0., 0., 0., 0., 0., 0.],\n",
       "         [0., 0., 0., 0., 0., 0., 0., 0., 0., 0., 0., 0., 0., 0., 0., 0., 0., 0., 0., 0., 0., 0., 0., 0.,\n",
       "          0., 0., 0., 0., 0., 0., 0., 0., 0., 0., 0., 0., 0., 0., 0., 0., 0., 0., 0., 0., 0., 0., 0., 0.,\n",
       "          0., 0., 0., 0., 0., 0., 0., 0., 0., 0., 0., 0., 0., 0., 0., 0.],\n",
       "         [0., 0., 0., 0., 0., 0., 0., 0., 0., 0., 0., 0., 0., 0., 0., 0., 0., 0., 0., 0., 0., 0., 0., 0.,\n",
       "          0., 0., 0., 0., 0., 0., 0., 0., 0., 0., 0., 0., 0., 0., 0., 0., 0., 0., 0., 0., 0., 0., 0., 0.,\n",
       "          0., 0., 0., 0., 0., 0., 0., 0., 0., 0., 0., 0., 0., 0., 0., 0.],\n",
       "         [0., 0., 0., 0., 0., 0., 0., 0., 0., 0., 0., 0., 0., 0., 0., 0., 0., 0., 0., 0., 0., 0., 0., 0.,\n",
       "          0., 0., 0., 0., 0., 0., 0., 0., 0., 0., 0., 0., 0., 0., 0., 0., 0., 0., 0., 0., 0., 0., 0., 0.,\n",
       "          0., 0., 0., 0., 0., 0., 0., 0., 0., 0., 0., 0., 0., 0., 0., 0.],\n",
       "         [0., 0., 0., 0., 0., 0., 0., 0., 0., 0., 0., 0., 0., 0., 0., 0., 0., 0., 0., 0., 0., 0., 0., 0.,\n",
       "          0., 0., 0., 0., 0., 0., 0., 0., 0., 0., 0., 0., 0., 0., 0., 0., 0., 0., 0., 0., 0., 0., 0., 0.,\n",
       "          0., 0., 0., 0., 0., 0., 0., 0., 0., 0., 0., 0., 0., 0., 0., 0.],\n",
       "         [0., 0., 0., 0., 0., 0., 0., 0., 0., 0., 0., 0., 0., 0., 0., 0., 0., 0., 0., 0., 0., 0., 0., 0.,\n",
       "          0., 0., 0., 0., 0., 0., 0., 0., 0., 0., 0., 0., 0., 0., 0., 0., 0., 0., 0., 0., 0., 0., 0., 0.,\n",
       "          0., 0., 0., 0., 0., 0., 0., 0., 0., 0., 0., 0., 0., 0., 0., 0.],\n",
       "         [0., 0., 0., 0., 0., 0., 0., 0., 0., 0., 0., 0., 0., 0., 0., 0., 0., 0., 0., 0., 0., 0., 0., 0.,\n",
       "          0., 0., 0., 0., 0., 0., 0., 0., 0., 0., 0., 0., 0., 0., 0., 0., 0., 0., 0., 0., 0., 0., 0., 0.,\n",
       "          0., 0., 0., 0., 0., 0., 0., 0., 0., 0., 0., 0., 0., 0., 0., 0.],\n",
       "         [0., 0., 0., 0., 0., 0., 0., 0., 0., 0., 0., 0., 0., 0., 0., 0., 0., 0., 0., 0., 0., 0., 0., 0.,\n",
       "          0., 0., 0., 0., 0., 0., 0., 0., 0., 0., 0., 0., 0., 0., 0., 0., 0., 0., 0., 0., 0., 0., 0., 0.,\n",
       "          0., 0., 0., 0., 0., 0., 0., 0., 0., 0., 0., 0., 0., 0., 0., 0.],\n",
       "         [0., 0., 0., 0., 0., 0., 0., 0., 0., 0., 0., 0., 0., 0., 0., 0., 0., 0., 0., 0., 0., 0., 0., 0.,\n",
       "          0., 0., 0., 0., 0., 0., 0., 0., 0., 0., 0., 0., 0., 0., 0., 0., 0., 0., 0., 0., 0., 0., 0., 0.,\n",
       "          0., 0., 0., 0., 0., 0., 0., 0., 0., 0., 0., 0., 0., 0., 0., 0.],\n",
       "         [0., 0., 0., 0., 0., 0., 0., 0., 0., 0., 0., 0., 0., 0., 0., 0., 0., 0., 0., 0., 0., 0., 0., 0.,\n",
       "          0., 0., 0., 0., 0., 0., 0., 0., 0., 0., 0., 0., 0., 0., 0., 0., 0., 0., 0., 0., 0., 0., 0., 0.,\n",
       "          0., 0., 0., 0., 0., 0., 0., 0., 0., 0., 0., 0., 0., 0., 0., 0.]]),\n",
       " 'segment_label': tensor([[1., 1., 1., 1., 1., 1., 1., 1., 1., 1., 1., 1., 1., 1., 1., 1., 1., 1.,\n",
       "          1., 1., 1., 1., 1., 1., 1., 1., 1., 1., 1., 1., 1., 1., 1., 1., 1., 1.,\n",
       "          1., 1., 1., 1., 1., 1., 1., 1., 1., 1., 1., 1., 1., 1., 1., 1., 1., 1.,\n",
       "          1., 1., 1., 1., 1., 1., 1., 1., 1., 1.],\n",
       "         [1., 1., 1., 1., 1., 1., 1., 1., 1., 1., 1., 1., 1., 1., 1., 1., 1., 1.,\n",
       "          1., 1., 1., 1., 1., 1., 1., 1., 1., 1., 1., 1., 1., 1., 1., 1., 1., 1.,\n",
       "          1., 1., 1., 1., 1., 1., 1., 1., 1., 1., 1., 1., 1., 1., 1., 1., 1., 1.,\n",
       "          1., 1., 1., 1., 1., 1., 1., 1., 1., 1.],\n",
       "         [1., 1., 1., 1., 1., 1., 1., 1., 1., 1., 1., 1., 1., 1., 1., 1., 1., 1.,\n",
       "          1., 1., 1., 1., 1., 1., 1., 1., 1., 1., 1., 1., 1., 1., 1., 1., 1., 1.,\n",
       "          1., 1., 1., 1., 1., 1., 1., 1., 1., 1., 1., 1., 1., 1., 1., 1., 1., 1.,\n",
       "          1., 1., 1., 1., 1., 1., 1., 1., 1., 1.],\n",
       "         [1., 1., 1., 1., 1., 1., 1., 1., 1., 1., 1., 1., 1., 1., 1., 1., 1., 1.,\n",
       "          1., 1., 1., 1., 1., 1., 1., 1., 1., 1., 1., 1., 1., 1., 1., 1., 1., 1.,\n",
       "          1., 1., 1., 1., 1., 1., 1., 1., 1., 1., 1., 1., 1., 1., 1., 1., 1., 1.,\n",
       "          1., 1., 1., 1., 1., 1., 1., 1., 1., 1.],\n",
       "         [1., 1., 1., 1., 1., 1., 1., 1., 1., 1., 1., 1., 1., 1., 1., 1., 1., 1.,\n",
       "          1., 1., 1., 1., 1., 1., 1., 1., 1., 1., 1., 1., 1., 1., 1., 1., 1., 1.,\n",
       "          1., 1., 1., 1., 1., 1., 1., 1., 1., 1., 1., 1., 1., 1., 1., 1., 1., 1.,\n",
       "          1., 1., 1., 1., 1., 1., 1., 1., 1., 1.],\n",
       "         [1., 1., 1., 1., 1., 1., 1., 1., 1., 1., 1., 1., 1., 1., 1., 1., 1., 1.,\n",
       "          1., 1., 1., 1., 1., 1., 1., 1., 1., 1., 1., 1., 1., 1., 1., 1., 1., 1.,\n",
       "          1., 1., 1., 1., 1., 1., 1., 1., 1., 1., 1., 1., 1., 1., 1., 1., 1., 1.,\n",
       "          1., 1., 1., 1., 1., 1., 1., 1., 1., 1.],\n",
       "         [1., 1., 1., 1., 1., 1., 1., 1., 1., 1., 1., 1., 1., 1., 1., 1., 1., 1.,\n",
       "          1., 1., 1., 1., 1., 1., 1., 1., 1., 1., 1., 1., 1., 1., 1., 1., 1., 1.,\n",
       "          1., 1., 1., 1., 1., 1., 1., 1., 1., 1., 1., 1., 1., 1., 1., 1., 1., 1.,\n",
       "          1., 1., 1., 1., 1., 1., 1., 1., 1., 1.],\n",
       "         [1., 1., 1., 1., 1., 1., 1., 1., 1., 1., 1., 1., 1., 1., 1., 1., 1., 1.,\n",
       "          1., 1., 1., 1., 1., 1., 1., 1., 1., 1., 1., 1., 1., 1., 1., 1., 1., 1.,\n",
       "          1., 1., 1., 1., 1., 1., 1., 1., 1., 1., 1., 1., 1., 1., 1., 1., 1., 1.,\n",
       "          1., 1., 1., 1., 1., 1., 1., 1., 1., 1.],\n",
       "         [1., 1., 1., 1., 1., 1., 1., 1., 1., 1., 1., 1., 1., 1., 1., 1., 1., 1.,\n",
       "          1., 1., 1., 1., 1., 1., 1., 1., 1., 1., 1., 1., 1., 1., 1., 1., 1., 1.,\n",
       "          1., 1., 1., 1., 1., 1., 1., 1., 1., 1., 1., 1., 1., 1., 1., 1., 1., 1.,\n",
       "          1., 1., 1., 1., 1., 1., 1., 1., 1., 1.],\n",
       "         [1., 1., 1., 1., 1., 1., 1., 1., 1., 1., 1., 1., 1., 1., 1., 1., 1., 1.,\n",
       "          1., 1., 1., 1., 1., 1., 1., 1., 1., 1., 1., 1., 1., 1., 1., 1., 1., 1.,\n",
       "          1., 1., 1., 1., 1., 1., 1., 1., 1., 1., 1., 1., 1., 1., 1., 1., 1., 1.,\n",
       "          1., 1., 1., 1., 1., 1., 1., 1., 1., 1.]])}"
      ]
     },
     "execution_count": 50,
     "metadata": {},
     "output_type": "execute_result"
    }
   ],
   "source": [
    "dl2 = DataLoader(test2,batch_size=10,shuffle=False)\n",
    "next(iter(dl2))"
   ]
  },
  {
   "cell_type": "code",
   "execution_count": 42,
   "id": "eeff4286",
   "metadata": {},
   "outputs": [
    {
     "data": {
      "text/plain": [
       "9"
      ]
     },
     "execution_count": 42,
     "metadata": {},
     "output_type": "execute_result"
    }
   ],
   "source": [
    "len(next(iter(dl2)))"
   ]
  },
  {
   "cell_type": "code",
   "execution_count": 43,
   "id": "82fd79a8",
   "metadata": {},
   "outputs": [
    {
     "data": {
      "text/plain": [
       "64"
      ]
     },
     "execution_count": 43,
     "metadata": {},
     "output_type": "execute_result"
    }
   ],
   "source": [
    "len(next(iter(dl))[\"bert_input\"][0])"
   ]
  },
  {
   "cell_type": "markdown",
   "id": "5ada6b40",
   "metadata": {},
   "source": [
    "## Functions for report"
   ]
  },
  {
   "cell_type": "code",
   "execution_count": 32,
   "id": "82ee2f56",
   "metadata": {},
   "outputs": [
    {
     "data": {
      "text/plain": [
       "'class BertTokenizer():\\n    def __init__(self, task_type=\"pretrain\"):\\n        if not task_type in [\"pretrain\", \"text_classification_multi\"]:\\n            raise ValueError(\"task not implemented\")\\n        pass\\n    \\n    def __call__()'"
      ]
     },
     "execution_count": 32,
     "metadata": {},
     "output_type": "execute_result"
    }
   ],
   "source": [
    "\"\"\"class BertTokenizer():\n",
    "    def __init__(self, task_type=\"pretrain\"):\n",
    "        if not task_type in [\"pretrain\", \"text_classification_multi\"]:\n",
    "            raise ValueError(\"task not implemented\")\n",
    "        pass\n",
    "    \n",
    "    def __call__()\"\"\"\n",
    "# i noticed we dont need any callable class to do transformation on the datasets since everything is handeled by our dataloaders\n",
    "# ie we dont need rescaling etc.\n",
    "# maybe ask supervisor if we need to save back the tokenized text or if it is okay to do it on the fly and leave the load_data transformation parameter at None"
   ]
  },
  {
   "cell_type": "code",
   "execution_count": 45,
   "id": "7bf4a2dc",
   "metadata": {
    "scrolled": true
   },
   "outputs": [],
   "source": [
    "#def __init__(self, tokenizer, seq_len=64, split=\"train\", n_rows=None):\n",
    "\n",
    "def load_data(dataset:str, transformation=None, n_train:int=None, n_test:int=None): # transformation callable\n",
    "    \n",
    "    if dataset == \"bookcorpus\":\n",
    "        train = Bookcorpus(\n",
    "            tokenizer=transformation,\n",
    "            seq_len=SEQ_LEN,\n",
    "            split=\"train\",\n",
    "            n_rows=n_train\n",
    "        )\n",
    "        return train, None\n",
    "    \n",
    "    elif dataset == \"jigsaw_toxicity_pred\":\n",
    "        train = ToxicComment(\n",
    "            tokenizer=transformation,\n",
    "            seq_len=SEQ_LEN,\n",
    "            split=\"train\",\n",
    "            n_rows=n_train\n",
    "        )\n",
    "        \n",
    "        test = ToxicComment(\n",
    "            tokenizer=transformation,\n",
    "            seq_len=SEQ_LEN,\n",
    "            split=\"test\",\n",
    "            n_rows=n_test\n",
    "        )\n",
    "        return train, test\n",
    "    \n",
    "    else:\n",
    "        raise NotImplementedError(\"Dataset not implemented\")"
   ]
  },
  {
   "cell_type": "code",
   "execution_count": 46,
   "id": "750c0387",
   "metadata": {},
   "outputs": [],
   "source": [
    "tokenizer = BertTokenizer.from_pretrained(\"bert-base-uncased\")\n",
    "train, test = load_data(\"jigsaw_toxicity_pred\", transformation=tokenizer, n_train=1000, n_test=100)"
   ]
  },
  {
   "cell_type": "code",
   "execution_count": 47,
   "id": "a85a9ba2",
   "metadata": {},
   "outputs": [
    {
     "data": {
      "text/plain": [
       "{'toxic': 0,\n",
       " 'severe_toxic': 0,\n",
       " 'obscene': 0,\n",
       " 'threat': 0,\n",
       " 'insult': 0,\n",
       " 'identity_hate': 0,\n",
       " 'bert_input': tensor([[  101,  7526,  2339,  1996, 10086,  2015,  2081,  2104,  2026,  5310,\n",
       "          18442, 13076, 12392,  2050,  5470,  2020, 16407,  1029,  2027,  4694,\n",
       "           1005,  1056,  3158,  9305, 22556,  1010,  2074,  8503,  2006,  2070,\n",
       "           3806,  2044,  1045,  5444,  2012,  2047,  2259, 14421,  6904,  2278,\n",
       "           1012,  1998,  3531,  2123,  1005,  1056,  6366,  1996, 23561,  2013,\n",
       "           1996,  2831,  3931,  2144,  1045,  1005,  1049,  3394,  2085,  1012,\n",
       "           6486,  1012, 16327,   102]]),\n",
       " 'bert_label': tensor([0., 0., 0., 0., 0., 0., 0., 0., 0., 0., 0., 0., 0., 0., 0., 0., 0., 0., 0., 0., 0., 0., 0., 0.,\n",
       "         0., 0., 0., 0., 0., 0., 0., 0., 0., 0., 0., 0., 0., 0., 0., 0., 0., 0., 0., 0., 0., 0., 0., 0.,\n",
       "         0., 0., 0., 0., 0., 0., 0., 0., 0., 0., 0., 0., 0., 0., 0., 0.]),\n",
       " 'segment_label': tensor([1., 1., 1., 1., 1., 1., 1., 1., 1., 1., 1., 1., 1., 1., 1., 1., 1., 1.,\n",
       "         1., 1., 1., 1., 1., 1., 1., 1., 1., 1., 1., 1., 1., 1., 1., 1., 1., 1.,\n",
       "         1., 1., 1., 1., 1., 1., 1., 1., 1., 1., 1., 1., 1., 1., 1., 1., 1., 1.,\n",
       "         1., 1., 1., 1., 1., 1., 1., 1., 1., 1.])}"
      ]
     },
     "execution_count": 47,
     "metadata": {},
     "output_type": "execute_result"
    }
   ],
   "source": [
    "next(iter(train))"
   ]
  },
  {
   "cell_type": "code",
   "execution_count": 48,
   "id": "c46fb18c",
   "metadata": {
    "scrolled": true
   },
   "outputs": [
    {
     "data": {
      "text/plain": [
       "{'toxic': 0,\n",
       " 'severe_toxic': 0,\n",
       " 'obscene': 0,\n",
       " 'threat': 0,\n",
       " 'insult': 0,\n",
       " 'identity_hate': 0,\n",
       " 'bert_input': tensor([[ 101, 4067, 2017, 2005, 4824, 1012, 1045, 2228, 2200, 3811, 1997, 2017,\n",
       "          1998, 2052, 2025, 7065, 8743, 2302, 6594, 1012,  102,    0,    0,    0,\n",
       "             0,    0,    0,    0,    0,    0,    0,    0,    0,    0,    0,    0,\n",
       "             0,    0,    0,    0,    0,    0,    0,    0,    0,    0,    0,    0,\n",
       "             0,    0,    0,    0,    0,    0,    0,    0,    0,    0,    0,    0,\n",
       "             0,    0,    0,    0]]),\n",
       " 'bert_label': tensor([0., 0., 0., 0., 0., 0., 0., 0., 0., 0., 0., 0., 0., 0., 0., 0., 0., 0., 0., 0., 0., 0., 0., 0.,\n",
       "         0., 0., 0., 0., 0., 0., 0., 0., 0., 0., 0., 0., 0., 0., 0., 0., 0., 0., 0., 0., 0., 0., 0., 0.,\n",
       "         0., 0., 0., 0., 0., 0., 0., 0., 0., 0., 0., 0., 0., 0., 0., 0.]),\n",
       " 'segment_label': tensor([1., 1., 1., 1., 1., 1., 1., 1., 1., 1., 1., 1., 1., 1., 1., 1., 1., 1.,\n",
       "         1., 1., 1., 1., 1., 1., 1., 1., 1., 1., 1., 1., 1., 1., 1., 1., 1., 1.,\n",
       "         1., 1., 1., 1., 1., 1., 1., 1., 1., 1., 1., 1., 1., 1., 1., 1., 1., 1.,\n",
       "         1., 1., 1., 1., 1., 1., 1., 1., 1., 1.])}"
      ]
     },
     "execution_count": 48,
     "metadata": {},
     "output_type": "execute_result"
    }
   ],
   "source": [
    "next(iter(test))"
   ]
  },
  {
   "cell_type": "code",
   "execution_count": 49,
   "id": "ac722bb0",
   "metadata": {},
   "outputs": [],
   "source": [
    "tokenizer = BertTokenizer.from_pretrained(\"bert-base-uncased\")\n",
    "train, test = load_data(\"bookcorpus\", transformation=tokenizer, n_train=1000, n_test=100)"
   ]
  },
  {
   "cell_type": "code",
   "execution_count": 51,
   "id": "2762923b",
   "metadata": {
    "scrolled": true
   },
   "outputs": [
    {
     "data": {
      "text/plain": [
       "True"
      ]
     },
     "execution_count": 51,
     "metadata": {},
     "output_type": "execute_result"
    }
   ],
   "source": [
    "test is None"
   ]
  },
  {
   "cell_type": "code",
   "execution_count": null,
   "id": "7c1552ca",
   "metadata": {},
   "outputs": [],
   "source": [
    "def show(x, outfile:str=None): # can have more args"
   ]
  }
 ],
 "metadata": {
  "kernelspec": {
   "display_name": "Python 3 (ipykernel)",
   "language": "python",
   "name": "python3"
  },
  "language_info": {
   "codemirror_mode": {
    "name": "ipython",
    "version": 3
   },
   "file_extension": ".py",
   "mimetype": "text/x-python",
   "name": "python",
   "nbconvert_exporter": "python",
   "pygments_lexer": "ipython3",
   "version": "3.11.5"
  }
 },
 "nbformat": 4,
 "nbformat_minor": 5
}
